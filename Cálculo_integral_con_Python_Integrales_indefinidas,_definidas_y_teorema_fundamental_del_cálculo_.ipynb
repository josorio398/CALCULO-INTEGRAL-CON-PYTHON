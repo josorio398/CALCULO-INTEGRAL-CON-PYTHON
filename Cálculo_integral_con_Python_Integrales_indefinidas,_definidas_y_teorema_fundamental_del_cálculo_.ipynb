{
  "nbformat": 4,
  "nbformat_minor": 0,
  "metadata": {
    "colab": {
      "name": "Cálculo integral con Python-Integrales indefinidas, definidas y teorema fundamental del cálculo .ipynb",
      "provenance": [],
      "collapsed_sections": [],
      "include_colab_link": true
    },
    "kernelspec": {
      "name": "python3",
      "display_name": "Python 3"
    }
  },
  "cells": [
    {
      "cell_type": "markdown",
      "metadata": {
        "id": "view-in-github",
        "colab_type": "text"
      },
      "source": [
        "<a href=\"https://colab.research.google.com/github/josorio398/CALCULO-INTEGRAL-CON-PYTHON/blob/main/C%C3%A1lculo_integral_con_Python_Integrales_indefinidas%2C_definidas_y_teorema_fundamental_del_c%C3%A1lculo_.ipynb\" target=\"_parent\"><img src=\"https://colab.research.google.com/assets/colab-badge.svg\" alt=\"Open In Colab\"/></a>"
      ]
    },
    {
      "cell_type": "markdown",
      "metadata": {
        "id": "RVxHpsbcExUD"
      },
      "source": [
        "<p><img alt=\"logo.fua\" height=\"100px\" src=\"https://github.com/josorio398/ALGEBRA-LINEAL-CON-PYTHON/blob/master/im%C3%A1genes%20repositorio/Logo%20UAm%C3%A9rica%20nuevo%202021.ai_page-0005.jpg?raw=true\" align=\"left\" hspace=\"0px\" vspace=\"0px\"></p>\n",
        "\n",
        "<p><img alt=\"logo.fua\" height=\"26px\" src=\"https://mirrors.creativecommons.org/presskit/buttons/88x31/svg/by-nd.svg\" align=\"right\" hspace=\"0px\" vspace=\"11px\"></p>\n",
        "\n",
        "\n",
        "<center> <font size=\"6\"><b>CALCULO INTEGRAL CON PYTHON &nbsp; &nbsp; &nbsp;&nbsp;</b><center><I>Jhonny Osorio Gallego</I> &nbsp; &nbsp;&nbsp; &nbsp;&nbsp;&nbsp;&nbsp; &nbsp; &nbsp;&nbsp; &nbsp;<p></font></center> \n",
        " "
      ]
    },
    {
      "cell_type": "markdown",
      "metadata": {
        "id": "pELON3yz_46g"
      },
      "source": [
        "# **INTEGRALES INDEFINIDAS Y DEFINIDAS, TEOREMA FUNDAMENTAL DEL CÁLCULO Y PROBLEMAS DE VALOR INICIAL**\n",
        "\n",
        "---\n",
        "\n"
      ]
    },
    {
      "cell_type": "markdown",
      "metadata": {
        "id": "U515Q-sM2m9k"
      },
      "source": [
        "## **Importamos librería simbolica SymPy**\n",
        "**SymPy** es una biblioteca de Python para matemáticas simbólicas. Su objetivo es convertirse en un sistema de álgebra computacional (CAS) con todas las funciones, manteniendo el código lo más simple posible para que sea comprensible y fácilmente extensible. SymPy está escrito completamente en Python.[sympy.org](https://www.sympy.org/en/index.html)\n",
        "\n"
      ]
    },
    {
      "cell_type": "code",
      "metadata": {
        "id": "4wHJ9dZ3405h"
      },
      "source": [
        "from sympy import *\n",
        "init_printing() \n",
        "\n",
        "x,y,β,z,q,u,t = symbols(\"x y β z q u t\", real = True)"
      ],
      "execution_count": 2,
      "outputs": []
    },
    {
      "cell_type": "markdown",
      "metadata": {
        "id": "LPNq31Fwyw1H"
      },
      "source": [
        "# **INTEGRALES INDEFINIDAS**\n",
        "La realización de integrales indefinidas usando la librería **SymPy** de Python se puede realizar de dos formas diferentes, la primera es usando la función **integrate( )** y la segunda es con la función **Integral( )**, a continuación se presenta algunos ejemplo.<br> </br>\n",
        "\n",
        "\n",
        "## **Función integrate( )**\n",
        "\n",
        "El cálculo de antiderivadas se puede realizar usando la función **integrate(  )** y utilizando la siguiente sintaxis:<br>\n",
        "<center><font size=4><strong>integrate(&nbsp;<em>f(x)&nbsp;</em>, variable)</strong></p></center>\n",
        "\n",
        "\n",
        "### **Ejemplo :**\n",
        "Encuentra la antiderivada de la función $$f(x)= 3x^2 - \\sqrt{x}+\\dfrac{1}{x}-4$$\n"
      ]
    },
    {
      "cell_type": "code",
      "metadata": {
        "id": "ALKGj_KK2klW",
        "colab": {
          "base_uri": "https://localhost:8080/",
          "height": 56
        },
        "outputId": "b166252e-3ad7-4837-efb4-159ff82391d0"
      },
      "source": [
        "integrate(3*x**2-sqrt(x)+1/x+4, x)"
      ],
      "execution_count": 5,
      "outputs": [
        {
          "output_type": "execute_result",
          "data": {
            "image/png": "[encoded data removed]",
            "text/latex": "$\\displaystyle - \\frac{2 x^{\\frac{3}{2}}}{3} + x^{3} + 4 x + \\log{\\left(x \\right)}$",
            "text/plain": [
              "     3/2                    \n",
              "  2⋅x       3               \n",
              "- ────── + x  + 4⋅x + log(x)\n",
              "    3                       "
            ]
          },
          "metadata": {},
          "execution_count": 5
        }
      ]
    },
    {
      "cell_type": "markdown",
      "metadata": {
        "id": "d2S3j6g3tpHB"
      },
      "source": [
        "Se puede omitir el parámetro de la variable cuando la función depende solamente de una variable"
      ]
    },
    {
      "cell_type": "code",
      "metadata": {
        "colab": {
          "base_uri": "https://localhost:8080/",
          "height": 56
        },
        "id": "-fz5br9jtoAh",
        "outputId": "5834cf36-5409-4fd2-cdbf-88ea6f37002a"
      },
      "source": [
        "integrate(3*x**2-sqrt(x)+1/x+4)"
      ],
      "execution_count": null,
      "outputs": [
        {
          "output_type": "execute_result",
          "data": {
            "image/png": "[encoded data removed]",
            "text/latex": "$\\displaystyle - \\frac{2 x^{\\frac{3}{2}}}{3} + x^{3} + 4 x + \\log{\\left(x \\right)}$",
            "text/plain": [
              "     3/2                    \n",
              "  2⋅x       3               \n",
              "- ────── + x  + 4⋅x + log(x)\n",
              "    3                       "
            ]
          },
          "metadata": {},
          "execution_count": 21
        }
      ]
    },
    {
      "cell_type": "markdown",
      "metadata": {
        "id": "mhzNJ6KYSE8V"
      },
      "source": [
        "##  **Función Integral( )**\n",
        "\n",
        "El cálculo de antiderivadas se puede realizar usando la función **Integral(  )**, inicialmente para expresar la integral, y luego aplicar sobre esta función el método **doit(  )** para calcularla, la sintaxis para usarla de manera adecuada es la siguiente:<br>\n",
        "\n",
        "<center><font size=4><strong>Integral(&nbsp;<em>f(x)&nbsp;</em>, variable).doit( )</strong></p></center>\n",
        "\n",
        "### **Ejemplo:**\n",
        "\n",
        "Encuentra la antiderivada de la función $$f(x)=\\sec(x)\\tan(x)$$"
      ]
    },
    {
      "cell_type": "code",
      "metadata": {
        "colab": {
          "base_uri": "https://localhost:8080/",
          "height": 55
        },
        "id": "AYLsgta0jAUJ",
        "outputId": "0d154294-8f44-4781-cd12-fdacd986f7d1"
      },
      "source": [
        "f = sec(x)*tan(x)\n",
        "Integral(f,x).doit()"
      ],
      "execution_count": null,
      "outputs": [
        {
          "output_type": "execute_result",
          "data": {
            "image/png": "[encoded data removed]",
            "text/latex": "$\\displaystyle \\frac{1}{\\cos{\\left(x \\right)}}$",
            "text/plain": [
              "  1   \n",
              "──────\n",
              "cos(x)"
            ]
          },
          "metadata": {},
          "execution_count": 6
        }
      ]
    },
    {
      "cell_type": "markdown",
      "metadata": {
        "id": "WRLdSc-Iye8T"
      },
      "source": [
        "Se puede realizar en dos lineas de codigo diferentes de la siguiente forma:"
      ]
    },
    {
      "cell_type": "code",
      "metadata": {
        "colab": {
          "base_uri": "https://localhost:8080/",
          "height": 54
        },
        "id": "mXsK1DWkyvca",
        "outputId": "be90f83f-0f3c-415a-c928-e2c1f0347cee"
      },
      "source": [
        "Integral(sec(x)*tan(x))"
      ],
      "execution_count": null,
      "outputs": [
        {
          "output_type": "execute_result",
          "data": {
            "image/png": "[encoded data removed]",
            "text/latex": "$\\displaystyle \\int \\tan{\\left(x \\right)} \\sec{\\left(x \\right)}\\, dx$",
            "text/plain": [
              "⌠                 \n",
              "⎮ tan(x)⋅sec(x) dx\n",
              "⌡                 "
            ]
          },
          "metadata": {},
          "execution_count": 21
        }
      ]
    },
    {
      "cell_type": "code",
      "metadata": {
        "colab": {
          "base_uri": "https://localhost:8080/",
          "height": 55
        },
        "id": "JcJLp3amy3G4",
        "outputId": "06fe6b09-a96e-4c7b-a88f-92348443f725"
      },
      "source": [
        "Integral(sec(x)*tan(x)).doit()"
      ],
      "execution_count": null,
      "outputs": [
        {
          "output_type": "execute_result",
          "data": {
            "image/png": "[encoded data removed]",
            "text/latex": "$\\displaystyle \\frac{1}{\\cos{\\left(x \\right)}}$",
            "text/plain": [
              "  1   \n",
              "──────\n",
              "cos(x)"
            ]
          },
          "metadata": {},
          "execution_count": 19
        }
      ]
    },
    {
      "cell_type": "markdown",
      "metadata": {
        "id": "_BUnX2EzhIzW"
      },
      "source": [
        "# **INTEGRALES DEFINIDAS**\n",
        "\n",
        "La realización de integrales definidas en la librería **sympy** se puede realizar al igual que las integrales indefinidas con las funciónes **integrate( )** e **Integral( )**, a continuación se presentan algunos ejemplos.<br> </br>\n",
        "\n",
        "\n",
        "## **Función integrate( )**\n",
        "\n",
        "El cálculo de antiderivadas se puede realizar usando la función **integrate(  )**, utilizando la siguiente sintaxis:<br>\n",
        "\n",
        "<center><font size=4><strong>integrate(&nbsp;<em>f(x)</em>, (<em>var</em>, a, b) )</strong></p></p></center>\n",
        "\n",
        "### **Ejemplo**: \n",
        "Cálcula la siguiente integral definida \n",
        "$$\\int_{1}^{2}  \\! x^2 \\, dx $$"
      ]
    },
    {
      "cell_type": "code",
      "metadata": {
        "colab": {
          "base_uri": "https://localhost:8080/",
          "height": 38
        },
        "id": "ATh4QqGkhc02",
        "outputId": "064bbb10-3620-4b00-9756-003e088c1d84"
      },
      "source": [
        "f = x**2\n",
        "f"
      ],
      "execution_count": null,
      "outputs": [
        {
          "output_type": "execute_result",
          "data": {
            "image/png": "[encoded data removed]",
            "text/latex": "$\\displaystyle x^{2}$",
            "text/plain": [
              " 2\n",
              "x "
            ]
          },
          "metadata": {},
          "execution_count": 22
        }
      ]
    },
    {
      "cell_type": "code",
      "metadata": {
        "colab": {
          "base_uri": "https://localhost:8080/",
          "height": 51
        },
        "id": "n6cYvZgzyvek",
        "outputId": "f6abd1fe-5a78-4991-9951-10411cbff9a2"
      },
      "source": [
        "integrate(f, (x,1,2))"
      ],
      "execution_count": null,
      "outputs": [
        {
          "output_type": "execute_result",
          "data": {
            "image/png": "[encoded data removed]",
            "text/latex": "$\\displaystyle \\frac{7}{3}$",
            "text/plain": [
              "7/3"
            ]
          },
          "metadata": {},
          "execution_count": 23
        }
      ]
    },
    {
      "cell_type": "markdown",
      "metadata": {
        "id": "XM7nDnRCiwm4"
      },
      "source": [
        "##  **Función Integral( )**\n",
        "\n",
        "El cálculo de integrales definidas se puede realizar usando la función **Integral(  )**, inicialmente para expresar la integral definida, y luego aplicando el método **doit(  )** para calcularla, la sintaxis para usarla de manera adecuada es la siguiente:<br>\n",
        "\n",
        "\n",
        "<center><font size=4><strong>Integral(&nbsp;<em>f(x)</em>, (<em>var</em>, a, b) ).doit( )</strong></p></center>\n",
        "\n",
        "### **Ejemplo**: \n",
        "\n",
        "Cálcula la siguinete integral definida \n",
        "$$\\int_{\\pi/4}^{3\\pi/2}  \\! \\sin(x) \\, dx $$"
      ]
    },
    {
      "cell_type": "code",
      "metadata": {
        "colab": {
          "base_uri": "https://localhost:8080/",
          "height": 56
        },
        "id": "pWGKk8s6i5GE",
        "outputId": "77215cb5-48bd-40b8-c6a4-de5d0d93fd73"
      },
      "source": [
        "fx = sin(x)\n",
        "Integral(fx,(x,pi/4,3*pi/2)).doit()"
      ],
      "execution_count": null,
      "outputs": [
        {
          "output_type": "execute_result",
          "data": {
            "image/png": "[encoded data removed]",
            "text/latex": "$\\displaystyle \\frac{\\sqrt{2}}{2}$",
            "text/plain": [
              "√2\n",
              "──\n",
              "2 "
            ]
          },
          "metadata": {},
          "execution_count": 5
        }
      ]
    },
    {
      "cell_type": "markdown",
      "metadata": {
        "id": "zJmZoSOeGJ9l"
      },
      "source": [
        "Se puede realizar en varios pasos,"
      ]
    },
    {
      "cell_type": "code",
      "metadata": {
        "colab": {
          "base_uri": "https://localhost:8080/",
          "height": 89
        },
        "id": "FaoKy243EwFA",
        "outputId": "ceeb6331-2822-4901-fb72-40c01cf2475f"
      },
      "source": [
        "fx = sin(x)\n",
        "Integral(fx,(x,pi/4,3*pi/2))"
      ],
      "execution_count": null,
      "outputs": [
        {
          "output_type": "execute_result",
          "data": {
            "image/png": "[encoded data removed]",
            "text/latex": "$\\displaystyle \\int\\limits_{\\frac{\\pi}{4}}^{\\frac{3 \\pi}{2}} \\sin{\\left(x \\right)}\\, dx$",
            "text/plain": [
              "3⋅π          \n",
              "───          \n",
              " 2           \n",
              " ⌠           \n",
              " ⎮  sin(x) dx\n",
              " ⌡           \n",
              " π           \n",
              " ─           \n",
              " 4           "
            ]
          },
          "metadata": {},
          "execution_count": 6
        }
      ]
    },
    {
      "cell_type": "code",
      "metadata": {
        "colab": {
          "base_uri": "https://localhost:8080/",
          "height": 56
        },
        "id": "HbQKB-5iLgG7",
        "outputId": "4a58f484-30e3-4c20-a26d-5353b97f5826"
      },
      "source": [
        "Integral(fx,(x,pi/4,3*pi/2)).doit()"
      ],
      "execution_count": null,
      "outputs": [
        {
          "output_type": "execute_result",
          "data": {
            "image/png": "[encoded data removed]",
            "text/latex": "$\\displaystyle \\frac{\\sqrt{2}}{2}$",
            "text/plain": [
              "√2\n",
              "──\n",
              "2 "
            ]
          },
          "metadata": {},
          "execution_count": 7
        }
      ]
    },
    {
      "cell_type": "code",
      "metadata": {
        "colab": {
          "base_uri": "https://localhost:8080/",
          "height": 87
        },
        "id": "oKsmibSosud_",
        "outputId": "c81ef766-fde8-4c76-af85-7578d4c2b19d"
      },
      "source": [
        "fx = 4*sec(x)*tan(x)\n",
        "I = Integral(fx,(x,-pi/3,pi/3))\n",
        "I"
      ],
      "execution_count": null,
      "outputs": [
        {
          "output_type": "execute_result",
          "data": {
            "image/png": "[encoded data removed]",
            "text/latex": "$\\displaystyle \\int\\limits_{- \\frac{\\pi}{3}}^{\\frac{\\pi}{3}} 4 \\tan{\\left(x \\right)} \\sec{\\left(x \\right)}\\, dx$",
            "text/plain": [
              " π                    \n",
              " ─                    \n",
              " 3                    \n",
              " ⌠                    \n",
              " ⎮  4⋅tan(x)⋅sec(x) dx\n",
              " ⌡                    \n",
              "-π                    \n",
              "───                   \n",
              " 3                    "
            ]
          },
          "metadata": {},
          "execution_count": 8
        }
      ]
    },
    {
      "cell_type": "code",
      "metadata": {
        "colab": {
          "base_uri": "https://localhost:8080/",
          "height": 37
        },
        "id": "x2pFqHK4s_xb",
        "outputId": "861c0823-ab9f-4c96-d18f-65a01fe3e3ab"
      },
      "source": [
        "I.doit()"
      ],
      "execution_count": null,
      "outputs": [
        {
          "output_type": "execute_result",
          "data": {
            "image/png": "[encoded data removed]",
            "text/latex": "$\\displaystyle 0$",
            "text/plain": [
              "0"
            ]
          },
          "metadata": {},
          "execution_count": 9
        }
      ]
    },
    {
      "cell_type": "code",
      "metadata": {
        "colab": {
          "base_uri": "https://localhost:8080/",
          "height": 314
        },
        "id": "Ow0Wj7gWtH5d",
        "outputId": "3e476cc2-e2c4-48d6-e025-e1fc6a8329cd"
      },
      "source": [
        "plot(fx,(x,-pi/3,pi/3))"
      ],
      "execution_count": null,
      "outputs": [
        {
          "output_type": "display_data",
          "data": {
            "image/png": "[encoded data removed]",
            "text/plain": [
              "<Figure size 432x288 with 1 Axes>"
            ]
          },
          "metadata": {
            "needs_background": "light"
          }
        },
        {
          "output_type": "execute_result",
          "data": {
            "text/plain": [
              "<sympy.plotting.plot.Plot at 0x7fd7c6b722d0>"
            ]
          },
          "metadata": {},
          "execution_count": 10
        }
      ]
    },
    {
      "cell_type": "markdown",
      "metadata": {
        "id": "GXjQ_XSTGRBO"
      },
      "source": [
        "# **VERIFICACIÓN DE INTEGRALES INDEFINIDAS**\n",
        "Al realizar una integral definida podemos encontrarnos con integrales que tienen diferentes maneras de abordarse y al verificarlas haciendo uso de técnología podriamos apreciar diferentes resultados y pensar que no se realizó correctamente, en la siguiente formula usando la función **symplify( )** de Python, puede servir para verificar la integral:\n",
        "\n",
        "<center><font size=4><strong>simplify( integral en Python - Integral manual) = constante&nbsp;</strong></p></center>\n",
        "\n",
        "### **Ejemplo:**\n",
        "\n",
        "Realiza la siguiente integral sin hacer uso de técnología y luego verifica tu resultado con **Python**.\n",
        "\n",
        "$$\\int \\! (3x^2+1)^3\\, dx $$"
      ]
    },
    {
      "cell_type": "markdown",
      "metadata": {
        "id": "O0BQrQtsJ9e8"
      },
      "source": [
        "###  **Resultado sin usar tecnología**"
      ]
    },
    {
      "cell_type": "code",
      "metadata": {
        "colab": {
          "base_uri": "https://localhost:8080/",
          "height": 59
        },
        "id": "mYP_K5juI2WF",
        "outputId": "30e44448-eccf-46f3-a031-307edd426a48"
      },
      "source": [
        "Im = S(\"1/24\")*(3*x**2+1)**4\n",
        "Im"
      ],
      "execution_count": null,
      "outputs": [
        {
          "output_type": "execute_result",
          "data": {
            "image/png": "[encoded data removed]",
            "text/latex": "$\\displaystyle \\frac{\\left(3 x^{2} + 1\\right)^{4}}{24}$",
            "text/plain": [
              "          4\n",
              "⎛   2    ⎞ \n",
              "⎝3⋅x  + 1⎠ \n",
              "───────────\n",
              "     24    "
            ]
          },
          "metadata": {},
          "execution_count": 11
        }
      ]
    },
    {
      "cell_type": "markdown",
      "metadata": {
        "id": "WeJDd6dSJk12"
      },
      "source": [
        "\n",
        "###  **Resultado de Python**"
      ]
    },
    {
      "cell_type": "code",
      "metadata": {
        "colab": {
          "base_uri": "https://localhost:8080/",
          "height": 54
        },
        "id": "Cf3MhOPIQG_I",
        "outputId": "8f5f7b16-fd4d-4bae-feb8-774827109f71"
      },
      "source": [
        "Ip = integrate(x*(3*x**2+1)**3)\n",
        "Ip"
      ],
      "execution_count": null,
      "outputs": [
        {
          "output_type": "execute_result",
          "data": {
            "image/png": "[encoded data removed]",
            "text/latex": "$\\displaystyle \\frac{27 x^{8}}{8} + \\frac{9 x^{6}}{2} + \\frac{9 x^{4}}{4} + \\frac{x^{2}}{2}$",
            "text/plain": [
              "    8      6      4    2\n",
              "27⋅x    9⋅x    9⋅x    x \n",
              "───── + ──── + ──── + ──\n",
              "  8      2      4     2 "
            ]
          },
          "metadata": {},
          "execution_count": 12
        }
      ]
    },
    {
      "cell_type": "markdown",
      "metadata": {
        "id": "lcTOm5ihJt-B"
      },
      "source": [
        "###  **Verificación**"
      ]
    },
    {
      "cell_type": "code",
      "metadata": {
        "colab": {
          "base_uri": "https://localhost:8080/",
          "height": 51
        },
        "id": "Ga0Y5tG4zbFe",
        "outputId": "31dae139-d444-4ea3-a72d-515b149c1851"
      },
      "source": [
        "simplify(Ip -Im)"
      ],
      "execution_count": null,
      "outputs": [
        {
          "output_type": "execute_result",
          "data": {
            "image/png": "[encoded data removed]",
            "text/latex": "$\\displaystyle - \\frac{1}{24}$",
            "text/plain": [
              "-1/24"
            ]
          },
          "metadata": {},
          "execution_count": 13
        }
      ]
    },
    {
      "cell_type": "code",
      "metadata": {
        "colab": {
          "base_uri": "https://localhost:8080/",
          "height": 37
        },
        "id": "nYDm3Fe1xK4x",
        "outputId": "7bce746c-6c1b-4c0f-df7f-7192bed6bfcc"
      },
      "source": [
        "Integral(Abs(x),(x,-2,1)).doit().evalf(2)"
      ],
      "execution_count": null,
      "outputs": [
        {
          "output_type": "execute_result",
          "data": {
            "image/png": "[encoded data removed]",
            "text/latex": "$\\displaystyle 2.5$",
            "text/plain": [
              "2.5"
            ]
          },
          "metadata": {},
          "execution_count": 14
        }
      ]
    },
    {
      "cell_type": "markdown",
      "metadata": {
        "id": "_PzKeijqyMaM"
      },
      "source": [
        "# **TEOREMA FUNDAMENTAL DEL CÁLCULO**\n",
        "\n",
        "Sea $f(t)$ una función integrable en el intervalo ${\\displaystyle [a,b],}$ definimos una función de area $F(x)$ en el intervalo ${\\displaystyle [a,b]}$ de la siguiente forma:\n",
        "\n",
        "$$F(x) = \\int_{0}^{x}  \\! f(t) \\, dt$$\n",
        "\n",
        "si $f(t)$ es continua en $(a,b)$, entonces $F(x)$ es diferenciable y se cumple:\n",
        "\n",
        "$$F^\\prime(x) = f(x)$$\n",
        "\n",
        "### **Ejemplo 1**: \n",
        "\n",
        "Hallar $F^\\prime(x)$ de la función de área:\n",
        "\n",
        "$$F(x) = \\int_{0}^{x}  \\! \\dfrac{1}{t^2-1} \\, dt$$"
      ]
    },
    {
      "cell_type": "code",
      "metadata": {
        "colab": {
          "base_uri": "https://localhost:8080/",
          "height": 86
        },
        "id": "zgznChYXq_-O",
        "outputId": "9452f91d-03cf-45ff-dbf3-f5c5bdf16510"
      },
      "source": [
        "F = Integral(1/sqrt(2+t**4),(t,tan(x),x**2))\n",
        "F"
      ],
      "execution_count": null,
      "outputs": [
        {
          "output_type": "execute_result",
          "data": {
            "image/png": "[encoded data removed]",
            "text/latex": "$\\displaystyle \\int\\limits_{\\tan{\\left(x \\right)}}^{x^{2}} \\frac{1}{\\sqrt{t^{4} + 2}}\\, dt$",
            "text/plain": [
              "   2                 \n",
              "  x                  \n",
              "  ⌠                  \n",
              "  ⎮         1        \n",
              "  ⎮    ─────────── dt\n",
              "  ⎮       ________   \n",
              "  ⎮      ╱  4        \n",
              "  ⎮    ╲╱  t  + 2    \n",
              "  ⌡                  \n",
              "tan(x)               "
            ]
          },
          "metadata": {},
          "execution_count": 3
        }
      ]
    },
    {
      "cell_type": "code",
      "metadata": {
        "colab": {
          "base_uri": "https://localhost:8080/",
          "height": 58
        },
        "id": "VFb1qU80rRXz",
        "outputId": "309a1a20-0459-4678-e9d3-61c9763d230b"
      },
      "source": [
        "DFp = trigsimp(diff(F))\n",
        "DFp"
      ],
      "execution_count": null,
      "outputs": [
        {
          "output_type": "execute_result",
          "data": {
            "image/png": "[encoded data removed]",
            "text/latex": "$\\displaystyle \\frac{2 x}{\\sqrt{x^{8} + 2}} - \\frac{1}{\\sqrt{\\tan^{4}{\\left(x \\right)} + 2} \\cos^{2}{\\left(x \\right)}}$",
            "text/plain": [
              "    2⋅x                  1            \n",
              "─────────── - ────────────────────────\n",
              "   ________      _____________        \n",
              "  ╱  8          ╱    4            2   \n",
              "╲╱  x  + 2    ╲╱  tan (x) + 2 ⋅cos (x)"
            ]
          },
          "metadata": {},
          "execution_count": 8
        }
      ]
    },
    {
      "cell_type": "code",
      "metadata": {
        "colab": {
          "base_uri": "https://localhost:8080/",
          "height": 61
        },
        "id": "LXsSaEY6rih2",
        "outputId": "403e4918-604b-42bc-a6c7-1134f42ec54a"
      },
      "source": [
        "DFm = 2*x/(sqrt(x**8+2)) - (sec(x))**2/(sqrt(2+(tan(x))**4)) \n",
        "DFm"
      ],
      "execution_count": null,
      "outputs": [
        {
          "output_type": "execute_result",
          "data": {
            "image/png": "[encoded data removed]",
            "text/latex": "$\\displaystyle \\frac{2 x}{\\sqrt{x^{8} + 2}} - \\frac{\\sec^{2}{\\left(x \\right)}}{\\sqrt{\\tan^{4}{\\left(x \\right)} + 2}}$",
            "text/plain": [
              "                     2        \n",
              "    2⋅x           sec (x)     \n",
              "─────────── - ────────────────\n",
              "   ________      _____________\n",
              "  ╱  8          ╱    4        \n",
              "╲╱  x  + 2    ╲╱  tan (x) + 2 "
            ]
          },
          "metadata": {},
          "execution_count": 11
        }
      ]
    },
    {
      "cell_type": "code",
      "metadata": {
        "colab": {
          "base_uri": "https://localhost:8080/",
          "height": 37
        },
        "id": "TPrE6mjMsMR_",
        "outputId": "075686fa-610c-4f0f-c4ca-a5c69273c23f"
      },
      "source": [
        "simplify(DFp-DFm)"
      ],
      "execution_count": null,
      "outputs": [
        {
          "output_type": "execute_result",
          "data": {
            "image/png": "[encoded data removed]",
            "text/latex": "$\\displaystyle 0$",
            "text/plain": [
              "0"
            ]
          },
          "metadata": {},
          "execution_count": 12
        }
      ]
    },
    {
      "cell_type": "code",
      "metadata": {
        "id": "sGgxGYYJ4-_E",
        "colab": {
          "base_uri": "https://localhost:8080/",
          "height": 52
        },
        "outputId": "bce16d29-d81d-4169-ce2c-68d5a5818746"
      },
      "source": [
        "F=  integrate(1/(t**2-1),(t,0,x))\n",
        "DF = simplify(diff(F))\n",
        "DF"
      ],
      "execution_count": null,
      "outputs": [
        {
          "output_type": "execute_result",
          "data": {
            "image/png": "[encoded data removed]",
            "text/latex": "$\\displaystyle \\frac{1}{x^{2} - 1}$",
            "text/plain": [
              "  1   \n",
              "──────\n",
              " 2    \n",
              "x  - 1"
            ]
          },
          "metadata": {},
          "execution_count": 30
        }
      ]
    },
    {
      "cell_type": "markdown",
      "metadata": {
        "id": "aaJzGjrtRazb"
      },
      "source": [
        "### **Ejemplo 2**: \n",
        "\n",
        "Hallar $F^\\prime(x)$ de la función de área:\n",
        "\n",
        "$$F(x) = \\int_{x^2}^{0}  \\!\\sqrt{t+1} \\, dt$$"
      ]
    },
    {
      "cell_type": "code",
      "metadata": {
        "colab": {
          "base_uri": "https://localhost:8080/",
          "height": 41
        },
        "id": "oUaV55hCRazz",
        "outputId": "780238e8-d4c4-4ee1-aa0c-b98287bcd2e1"
      },
      "source": [
        "Fx =  integrate(sqrt(t+1),(t,x**2,0))\n",
        "diff(Fx)"
      ],
      "execution_count": null,
      "outputs": [
        {
          "output_type": "execute_result",
          "data": {
            "image/png": "[encoded data removed]",
            "text/latex": "$\\displaystyle - 2 x \\sqrt{x^{2} + 1}$",
            "text/plain": [
              "        ________\n",
              "       ╱  2     \n",
              "-2⋅x⋅╲╱  x  + 1 "
            ]
          },
          "metadata": {},
          "execution_count": 31
        }
      ]
    },
    {
      "cell_type": "markdown",
      "metadata": {
        "id": "uClhlalAynKo"
      },
      "source": [
        "### **Ejemplo 3**: \n",
        "\n",
        "Hallar $F^\\prime(x)$ de la función de área:\n",
        "\n",
        "$$F(x) = \\int_{x^3}^{x^2}  \\! t^3 \\, dt$$"
      ]
    },
    {
      "cell_type": "code",
      "metadata": {
        "colab": {
          "base_uri": "https://localhost:8080/",
          "height": 38
        },
        "id": "M-wpoEFmEylJ",
        "outputId": "c5a70986-0496-4192-aa5a-2f648e13a2a1"
      },
      "source": [
        "Fx =  integrate(t**3, (t,x**3,x**2))\n",
        "diff(Fx)"
      ],
      "execution_count": null,
      "outputs": [
        {
          "output_type": "execute_result",
          "data": {
            "image/png": "[encoded data removed]",
            "text/latex": "$\\displaystyle - 3 x^{11} + 2 x^{7}$",
            "text/plain": [
              "     11      7\n",
              "- 3⋅x   + 2⋅x "
            ]
          },
          "metadata": {},
          "execution_count": 32
        }
      ]
    },
    {
      "cell_type": "markdown",
      "metadata": {
        "id": "wkvAh2OlSZbX"
      },
      "source": [
        "### **Ejemplo 4**: \n",
        "\n",
        "Hallar el intervalo donde es creciente la función $F$ definida como:\n",
        "\n",
        "$$F(x) = \\int_{0}^{x}  \\! (1-t^2)e^{t^2} \\, dt$$"
      ]
    },
    {
      "cell_type": "code",
      "metadata": {
        "colab": {
          "base_uri": "https://localhost:8080/",
          "height": 77
        },
        "id": "v2aytC6dSZbv",
        "outputId": "aeaf2e60-f4b7-48ef-8ef0-c5bcb1093640"
      },
      "source": [
        "I =  Integral((1-t**2)*(E**(t**2)), (t,0,x))\n",
        "I"
      ],
      "execution_count": null,
      "outputs": [
        {
          "output_type": "execute_result",
          "data": {
            "image/png": "[encoded data removed]",
            "text/latex": "$\\displaystyle \\int\\limits_{0}^{x} \\left(1 - t^{2}\\right) e^{t^{2}}\\, dt$",
            "text/plain": [
              "x                  \n",
              "⌠                  \n",
              "⎮           ⎛ 2⎞   \n",
              "⎮ ⎛     2⎞  ⎝t ⎠   \n",
              "⎮ ⎝1 - t ⎠⋅ℯ     dt\n",
              "⌡                  \n",
              "0                  "
            ]
          },
          "metadata": {},
          "execution_count": 83
        }
      ]
    },
    {
      "cell_type": "code",
      "metadata": {
        "colab": {
          "base_uri": "https://localhost:8080/",
          "height": 40
        },
        "id": "PkrlFqNfTnxJ",
        "outputId": "57d524ef-c6a2-4021-c72e-3cbd8a5ab95b"
      },
      "source": [
        "DF = diff(I.doit())\n",
        "DF"
      ],
      "execution_count": null,
      "outputs": [
        {
          "output_type": "execute_result",
          "data": {
            "image/png": "[encoded data removed]",
            "text/latex": "$\\displaystyle - x^{2} e^{x^{2}} + e^{x^{2}}$",
            "text/plain": [
              "      ⎛ 2⎞    ⎛ 2⎞\n",
              "   2  ⎝x ⎠    ⎝x ⎠\n",
              "- x ⋅ℯ     + ℯ    "
            ]
          },
          "metadata": {},
          "execution_count": 36
        }
      ]
    },
    {
      "cell_type": "code",
      "metadata": {
        "colab": {
          "base_uri": "https://localhost:8080/",
          "height": 40
        },
        "id": "LC2GEDvBT3dg",
        "outputId": "a3eb858b-dc1d-4bcd-abfe-fc4fbf4a53a0"
      },
      "source": [
        "exp = factor(DF)\n",
        "exp"
      ],
      "execution_count": null,
      "outputs": [
        {
          "output_type": "execute_result",
          "data": {
            "image/png": "[encoded data removed]",
            "text/latex": "$\\displaystyle - \\left(x - 1\\right) \\left(x + 1\\right) e^{x^{2}}$",
            "text/plain": [
              "                  ⎛ 2⎞\n",
              "                  ⎝x ⎠\n",
              "-(x - 1)⋅(x + 1)⋅ℯ    "
            ]
          },
          "metadata": {},
          "execution_count": 49
        }
      ]
    },
    {
      "cell_type": "code",
      "metadata": {
        "colab": {
          "base_uri": "https://localhost:8080/",
          "height": 37
        },
        "id": "9d24hWYUUAIA",
        "outputId": "d7b2b811-a955-4297-c219-5bf6b2725734"
      },
      "source": [
        "solve(exp> 0, x).as_set()"
      ],
      "execution_count": null,
      "outputs": [
        {
          "output_type": "execute_result",
          "data": {
            "image/png": "[encoded data removed]",
            "text/latex": "$\\displaystyle \\left(-1, 1\\right)$",
            "text/plain": [
              "(-1, 1)"
            ]
          },
          "metadata": {},
          "execution_count": 50
        }
      ]
    },
    {
      "cell_type": "code",
      "metadata": {
        "id": "taSBdwAhjuh4"
      },
      "source": [
        "plot(I.doit(),(x, -1.5,1.5))\n"
      ],
      "execution_count": null,
      "outputs": []
    },
    {
      "cell_type": "markdown",
      "metadata": {
        "id": "h42ZmUmeIBlQ"
      },
      "source": [
        "### **Ejemplo 5**: \n",
        "\n",
        "Hallar el intervalo donde es cóncava hacia arriba  la función $F$ definida como:\n",
        "\n",
        "$$F(x) = \\int_{0}^{x}  \\! (t^4+1) \\, dt$$"
      ]
    },
    {
      "cell_type": "code",
      "metadata": {
        "colab": {
          "base_uri": "https://localhost:8080/",
          "height": 77
        },
        "id": "MZB8C9_vIAka",
        "outputId": "f731c275-af02-4c46-9bfd-815130fe0896"
      },
      "source": [
        "I = Integral(t**4+1,(t,0,x))\n",
        "I"
      ],
      "execution_count": null,
      "outputs": [
        {
          "output_type": "execute_result",
          "data": {
            "image/png": "[encoded data removed]",
            "text/latex": "$\\displaystyle \\int\\limits_{0}^{x} \\left(t^{4} + 1\\right)\\, dt$",
            "text/plain": [
              "x            \n",
              "⌠            \n",
              "⎮ ⎛ 4    ⎞   \n",
              "⎮ ⎝t  + 1⎠ dt\n",
              "⌡            \n",
              "0            "
            ]
          },
          "metadata": {},
          "execution_count": 158
        }
      ]
    },
    {
      "cell_type": "code",
      "metadata": {
        "colab": {
          "base_uri": "https://localhost:8080/",
          "height": 38
        },
        "id": "qnfoofg4Ijau",
        "outputId": "0981f6f8-bc08-4534-e706-200d85834259"
      },
      "source": [
        "DF = diff(I.doit())\n",
        "DF"
      ],
      "execution_count": null,
      "outputs": [
        {
          "output_type": "execute_result",
          "data": {
            "image/png": "[encoded data removed]",
            "text/latex": "$\\displaystyle x^{4} + 1$",
            "text/plain": [
              " 4    \n",
              "x  + 1"
            ]
          },
          "metadata": {},
          "execution_count": 159
        }
      ]
    },
    {
      "cell_type": "code",
      "metadata": {
        "colab": {
          "base_uri": "https://localhost:8080/",
          "height": 38
        },
        "id": "Uy5P5mVlJB92",
        "outputId": "34fa27ab-7028-45d5-ca6c-0dad0dba7aa3"
      },
      "source": [
        "DDF = diff(DF)\n",
        "DDF"
      ],
      "execution_count": null,
      "outputs": [
        {
          "output_type": "execute_result",
          "data": {
            "image/png": "[encoded data removed]",
            "text/latex": "$\\displaystyle 4 x^{3}$",
            "text/plain": [
              "   3\n",
              "4⋅x "
            ]
          },
          "metadata": {},
          "execution_count": 160
        }
      ]
    },
    {
      "cell_type": "code",
      "metadata": {
        "colab": {
          "base_uri": "https://localhost:8080/",
          "height": 37
        },
        "id": "PelLph4zJJgi",
        "outputId": "3640507e-4691-472f-cb8c-82066614814a"
      },
      "source": [
        "solve(DDF> 0, x).as_set()"
      ],
      "execution_count": null,
      "outputs": [
        {
          "output_type": "execute_result",
          "data": {
            "image/png": "[encoded data removed]",
            "text/latex": "$\\displaystyle \\left(0, \\infty\\right)$",
            "text/plain": [
              "(0, ∞)"
            ]
          },
          "metadata": {},
          "execution_count": 161
        }
      ]
    },
    {
      "cell_type": "code",
      "metadata": {
        "id": "UcEy2aq9D9ta"
      },
      "source": [
        "plot(I.doit(),(x, -1.5,1.5))"
      ],
      "execution_count": null,
      "outputs": []
    },
    {
      "cell_type": "markdown",
      "metadata": {
        "id": "_r_1pl5zWjhh"
      },
      "source": [
        "### **Ejemplo 6**: \n",
        "\n",
        "Si $F(x) = \\displaystyle \\int_{0}^{x}  \\! f(t) \\, dt$ donde $f(t) =  \\displaystyle \\int_{1}^{t^3}  \\! \\sqrt{1+u^4} \\, du$, halle $F^{\\prime \\prime}(1)$"
      ]
    },
    {
      "cell_type": "markdown",
      "metadata": {
        "id": "VspzVNSNtrcF"
      },
      "source": [
        "### **Definimos la función $f(t)$**"
      ]
    },
    {
      "cell_type": "code",
      "metadata": {
        "colab": {
          "base_uri": "https://localhost:8080/",
          "height": 82
        },
        "id": "80OGBMtaZKzu",
        "outputId": "f1d32f2c-f98e-4556-f7cb-9db4e87b9a6e"
      },
      "source": [
        "f = Integral(sqrt(1+u**4),(u,1,t**3))\n",
        "f"
      ],
      "execution_count": null,
      "outputs": [
        {
          "output_type": "execute_result",
          "data": {
            "image/png": "[encoded data removed]",
            "text/latex": "$\\displaystyle \\int\\limits_{1}^{t^{3}} \\sqrt{u^{4} + 1}\\, du$",
            "text/plain": [
              " 3               \n",
              "t                \n",
              "⌠                \n",
              "⎮     ________   \n",
              "⎮    ╱  4        \n",
              "⎮  ╲╱  u  + 1  du\n",
              "⌡                \n",
              "1                "
            ]
          },
          "metadata": {},
          "execution_count": 61
        }
      ]
    },
    {
      "cell_type": "markdown",
      "metadata": {
        "id": "9T9pGyNnt0F9"
      },
      "source": [
        "### **Definimos la función $F(x)$**"
      ]
    },
    {
      "cell_type": "code",
      "metadata": {
        "colab": {
          "base_uri": "https://localhost:8080/",
          "height": 82
        },
        "id": "0vQ58Q9lZayA",
        "outputId": "4f4d9977-5611-4f63-a2dd-fb5afca1bff3"
      },
      "source": [
        "F = Integral(f,(t,0,x))\n",
        "F"
      ],
      "execution_count": null,
      "outputs": [
        {
          "output_type": "execute_result",
          "data": {
            "image/png": "[encoded data removed]",
            "text/latex": "$\\displaystyle \\int\\limits_{0}^{x}\\int\\limits_{1}^{t^{3}} \\sqrt{u^{4} + 1}\\, du\\, dt$",
            "text/plain": [
              "   3                  \n",
              "x t                   \n",
              "⌠ ⌠                   \n",
              "⎮ ⎮     ________      \n",
              "⎮ ⎮    ╱  4           \n",
              "⎮ ⎮  ╲╱  u  + 1  du dt\n",
              "⌡ ⌡                   \n",
              "0 1                   "
            ]
          },
          "metadata": {},
          "execution_count": 62
        }
      ]
    },
    {
      "cell_type": "markdown",
      "metadata": {
        "id": "RKHmA3JZuLMb"
      },
      "source": [
        "### **Encontramos $F^{\\prime \\prime}(1)$**"
      ]
    },
    {
      "cell_type": "code",
      "metadata": {
        "colab": {
          "base_uri": "https://localhost:8080/",
          "height": 37
        },
        "id": "Kh72D958ZrNI",
        "outputId": "77f4d352-4ae8-42ed-e582-865403e49916"
      },
      "source": [
        "dF = diff(F.doit())\n",
        "ddF = diff(dF)\n",
        "ddF.subs(x,1).evalf(4)"
      ],
      "execution_count": null,
      "outputs": [
        {
          "output_type": "execute_result",
          "data": {
            "image/png": "[encoded data removed]",
            "text/latex": "$\\displaystyle 4.243$",
            "text/plain": [
              "4.243"
            ]
          },
          "metadata": {},
          "execution_count": 67
        }
      ]
    },
    {
      "cell_type": "markdown",
      "metadata": {
        "id": "qLc6C0dKuyzM"
      },
      "source": [
        "# **PROBLEMAS DE VALOR INICIAL**\n",
        "\n",
        "## **Crecimiento poblacional**\n",
        "\n",
        "Mediante un censo poblacional en el año 1970, el tamaño de la población de una pequeña ciudad fue de aproximadamente 74 000 habitantes. En el censo poblacional del año 2000 se estimó que el tamaño de la población fue de 200 000 habitantes. Considerando que el tamaño de esta población ha crecido de forma proporcional, ¿cuál será el tamaño de la población en el año 2030?"
      ]
    },
    {
      "cell_type": "markdown",
      "metadata": {
        "id": "vb2xyAZZjlbq"
      },
      "source": [
        "### **Solución general de la ecuación**"
      ]
    },
    {
      "cell_type": "code",
      "metadata": {
        "colab": {
          "base_uri": "https://localhost:8080/",
          "height": 38
        },
        "id": "kujxgjuCu6j5",
        "outputId": "71f46e15-112d-485f-bef1-4a6804b5986c"
      },
      "source": [
        "P = Function(\"P\")                    # Definimos la función de población\n",
        "t,k =  symbols(\"t k\",real= True)     # Definimos la variable t y la constante k\n",
        "Ecua = Eq(diff(P(t),t),k*P(t))       # Planteamos la ecuación diferencial\n",
        "sol_general = dsolve(Ecua,P(t))      # Resolvemos la ecuación diferencial de forma general\n",
        "sol_general"
      ],
      "execution_count": null,
      "outputs": [
        {
          "output_type": "execute_result",
          "data": {
            "image/png": "[encoded data removed]",
            "text/latex": "$\\displaystyle P{\\left(t \\right)} = C_{1} e^{k t}$",
            "text/plain": [
              "           k⋅t\n",
              "P(t) = C₁⋅ℯ   "
            ]
          },
          "metadata": {},
          "execution_count": 120
        }
      ]
    },
    {
      "cell_type": "markdown",
      "metadata": {
        "id": "QTFrZAQ8j1ix"
      },
      "source": [
        "### **Solución particular - remplazando condición inicial**"
      ]
    },
    {
      "cell_type": "code",
      "metadata": {
        "colab": {
          "base_uri": "https://localhost:8080/",
          "height": 38
        },
        "id": "vO8el0He8Fxe",
        "outputId": "1c5b8960-bc74-4d29-9691-12329a18d50a"
      },
      "source": [
        "sol_parti = dsolve(Ecua,P(t),ics={P(0):74000})  # Resolvemos la ecuación diferencial con la condición inicial\n",
        "sol_parti"
      ],
      "execution_count": null,
      "outputs": [
        {
          "output_type": "execute_result",
          "data": {
            "image/png": "[encoded data removed]",
            "text/latex": "$\\displaystyle P{\\left(t \\right)} = 74000 e^{k t}$",
            "text/plain": [
              "              k⋅t\n",
              "P(t) = 74000⋅ℯ   "
            ]
          },
          "metadata": {},
          "execution_count": 151
        }
      ]
    },
    {
      "cell_type": "markdown",
      "metadata": {
        "id": "0r_C25wzkIFm"
      },
      "source": [
        "###  **Hallamos el valor de la  constante k**"
      ]
    },
    {
      "cell_type": "code",
      "metadata": {
        "colab": {
          "base_uri": "https://localhost:8080/",
          "height": 38
        },
        "id": "9a_7YB2gBpiN",
        "outputId": "5c46c89c-3630-4f60-f177-3b5ea4c124ce"
      },
      "source": [
        "Ecua = sol_parti.subs({P(t):200000,t:30}) # Remplazamos la condición t = 30  P = 200000\n",
        "Ecua"
      ],
      "execution_count": null,
      "outputs": [
        {
          "output_type": "execute_result",
          "data": {
            "image/png": "[encoded data removed]",
            "text/latex": "$\\displaystyle 200000 = 74000 e^{30 k}$",
            "text/plain": [
              "                30⋅k\n",
              "200000 = 74000⋅ℯ    "
            ]
          },
          "metadata": {},
          "execution_count": 75
        }
      ]
    },
    {
      "cell_type": "code",
      "metadata": {
        "colab": {
          "base_uri": "https://localhost:8080/",
          "height": 68
        },
        "id": "zdkkYqCRELLM",
        "outputId": "2d1fc8ea-ade7-48ea-8f17-73e752d5fa5a"
      },
      "source": [
        "solu = solveset(Ecua,k,domain=S.Reals)  # Resolvemos la ecuación anterior\n",
        "solu"
      ],
      "execution_count": null,
      "outputs": [
        {
          "output_type": "execute_result",
          "data": {
            "image/png": "[encoded data removed]",
            "text/latex": "$\\displaystyle \\left\\{\\frac{\\log{\\left(\\frac{100}{37} \\right)}}{30}\\right\\}$",
            "text/plain": [
              "⎧   ⎛100⎞⎫\n",
              "⎪log⎜───⎟⎪\n",
              "⎨   ⎝ 37⎠⎬\n",
              "⎪────────⎪\n",
              "⎩   30   ⎭"
            ]
          },
          "metadata": {},
          "execution_count": 76
        }
      ]
    },
    {
      "cell_type": "code",
      "metadata": {
        "colab": {
          "base_uri": "https://localhost:8080/",
          "height": 37
        },
        "id": "5LQQWv3NJ011",
        "outputId": "f25dccfc-409b-4bf0-fac5-930a665216fe"
      },
      "source": [
        "K = list(solu)[0].evalf(3)  #Extraemos la solución del conjunto y la asignamos a K\n",
        "K"
      ],
      "execution_count": null,
      "outputs": [
        {
          "output_type": "execute_result",
          "data": {
            "image/png": "[encoded data removed]",
            "text/latex": "$\\displaystyle 0.0331$",
            "text/plain": [
              "0.0331"
            ]
          },
          "metadata": {},
          "execution_count": 77
        }
      ]
    },
    {
      "cell_type": "markdown",
      "metadata": {
        "id": "9qhw-kw-kXAM"
      },
      "source": [
        "### **Encontramos el módelo de crecimiento poblacional**"
      ]
    },
    {
      "cell_type": "code",
      "metadata": {
        "colab": {
          "base_uri": "https://localhost:8080/",
          "height": 38
        },
        "id": "aSCRS7buHRgm",
        "outputId": "c5f5a7fe-7126-4128-ef32-718d59af9e26"
      },
      "source": [
        "sol_parti.subs(k,K)         #Reemplazamos K en k de la solución particular "
      ],
      "execution_count": null,
      "outputs": [
        {
          "output_type": "execute_result",
          "data": {
            "image/png": "[encoded data removed]",
            "text/latex": "$\\displaystyle P{\\left(t \\right)} = 74000 e^{0.0331 t}$",
            "text/plain": [
              "              0.0331⋅t\n",
              "P(t) = 74000⋅ℯ        "
            ]
          },
          "metadata": {},
          "execution_count": 78
        }
      ]
    },
    {
      "cell_type": "markdown",
      "metadata": {
        "id": "16-stEPPkg3g"
      },
      "source": [
        "### **Usamos el módelo para responder la pregunta**"
      ]
    },
    {
      "cell_type": "code",
      "metadata": {
        "colab": {
          "base_uri": "https://localhost:8080/",
          "height": 37
        },
        "id": "_w8AwhajatIP",
        "outputId": "fe1b3797-7768-405b-e08b-183749b615f2"
      },
      "source": [
        "solu = solveset(sol_parti.subs({k:K,t:60}),P(60),domain=S.Reals)     # Remplazamos t = 60  para hallar la población en el 2030\n",
        "solu.evalf(10)"
      ],
      "execution_count": null,
      "outputs": [
        {
          "output_type": "execute_result",
          "data": {
            "image/png": "[encoded data removed]",
            "text/latex": "$\\displaystyle \\left\\{540544.0\\right\\}$",
            "text/plain": [
              "{540544.0}"
            ]
          },
          "metadata": {},
          "execution_count": 79
        }
      ]
    },
    {
      "cell_type": "markdown",
      "metadata": {
        "id": "LlhTHIPuq3ai"
      },
      "source": [
        "##  **Problema movimiento vertical**\n",
        "Si se deja caer una piedra desde la terraza de un edificio y se observa que tarda 6 s en llegar al suelo. Calcular:\n",
        "\n",
        "* ¿A qué altura estaría esa terraza?.\n",
        "\n",
        "* ¿Con qué velocidad llegaría la piedra al piso?."
      ]
    },
    {
      "cell_type": "code",
      "metadata": {
        "colab": {
          "base_uri": "https://localhost:8080/",
          "height": 38
        },
        "id": "ZnQOmx-8xk2r",
        "outputId": "2366bdfd-6eef-43a5-b0b7-ccee498a5ad8"
      },
      "source": [
        "v = Function(\"v\")                                  # Definimos función de velocidad\n",
        "t,g,vi,yi = symbols(\"t g vi yi\",real= True)        # Definimos la constante g\n",
        " \n",
        "Ecu = Eq(diff(v(t),t),-g)   # Planteamos la ecuación diferencial\n",
        "sol = dsolve(Ecu,v(t))      # Resolvemos la ecuación diferencial\n",
        "sol"
      ],
      "execution_count": null,
      "outputs": [
        {
          "output_type": "execute_result",
          "data": {
            "image/png": "[encoded data removed]",
            "text/latex": "$\\displaystyle v{\\left(t \\right)} = C_{1} - g t$",
            "text/plain": [
              "v(t) = C₁ - g⋅t"
            ]
          },
          "metadata": {},
          "execution_count": 140
        }
      ]
    },
    {
      "cell_type": "code",
      "metadata": {
        "colab": {
          "base_uri": "https://localhost:8080/",
          "height": 38
        },
        "id": "98lEQvvXpl2E",
        "outputId": "1907e7ce-4e62-45af-d125-0742dca55027"
      },
      "source": [
        "dsolve(Ecu,v(t),ics={v(0):vi}) "
      ],
      "execution_count": null,
      "outputs": [
        {
          "output_type": "execute_result",
          "data": {
            "image/png": "[encoded data removed]",
            "text/latex": "$\\displaystyle v{\\left(t \\right)} = - g t + vi$",
            "text/plain": [
              "v(t) = -g⋅t + vi"
            ]
          },
          "metadata": {},
          "execution_count": 141
        }
      ]
    },
    {
      "cell_type": "code",
      "metadata": {
        "colab": {
          "base_uri": "https://localhost:8080/",
          "height": 54
        },
        "id": "yU7SQhrXrU9z",
        "outputId": "a393efae-44bf-43e3-e1dc-eb9021b23d83"
      },
      "source": [
        "y = Function(\"y\") # Definimos función de velocidad\n",
        "\n",
        "Ecu = Eq(diff(y(t),t),vi-g*t) #planteamos la ecuación diferencial\n",
        "sol = dsolve(Ecu,y(t))        #Resolvemos la ecuación diferencial\n",
        "sol"
      ],
      "execution_count": null,
      "outputs": [
        {
          "output_type": "execute_result",
          "data": {
            "image/png": "[encoded data removed]",
            "text/latex": "$\\displaystyle y{\\left(t \\right)} = C_{1} - \\frac{g t^{2}}{2} + t vi$",
            "text/plain": [
              "               2       \n",
              "            g⋅t        \n",
              "y(t) = C₁ - ──── + t⋅vi\n",
              "             2         "
            ]
          },
          "metadata": {},
          "execution_count": 142
        }
      ]
    },
    {
      "cell_type": "code",
      "metadata": {
        "colab": {
          "base_uri": "https://localhost:8080/",
          "height": 54
        },
        "id": "v3ESC_V7tjJP",
        "outputId": "333562e7-9f85-4203-9939-7a1e9b8d1f57"
      },
      "source": [
        "dsolve(Ecu,y(t),ics={y(0):yi}) "
      ],
      "execution_count": null,
      "outputs": [
        {
          "output_type": "execute_result",
          "data": {
            "image/png": "[encoded data removed]",
            "text/latex": "$\\displaystyle y{\\left(t \\right)} = - \\frac{g t^{2}}{2} + t vi + yi$",
            "text/plain": [
              "            2            \n",
              "         g⋅t             \n",
              "y(t) = - ──── + t⋅vi + yi\n",
              "          2              "
            ]
          },
          "metadata": {},
          "execution_count": 143
        }
      ]
    },
    {
      "cell_type": "markdown",
      "metadata": {
        "id": "HNkZpi7iVE3C"
      },
      "source": [
        "## **CÓDIGO PARA INSERTAR VIDEOS EN COLAB**"
      ]
    },
    {
      "cell_type": "code",
      "metadata": {
        "id": "r5Cu55gfm_pd",
        "colab": {
          "base_uri": "https://localhost:8080/",
          "height": 320
        },
        "outputId": "7f821884-975e-486d-e9db-4c902133543f"
      },
      "source": [
        "from IPython.display import YouTubeVideo\n",
        "YouTubeVideo('kx_YN7BYwE8', width=400)"
      ],
      "execution_count": null,
      "outputs": [
        {
          "output_type": "execute_result",
          "data": {
            "text/html": [
              "\n",
              "        <iframe\n",
              "            width=\"400\"\n",
              "            height=\"300\"\n",
              "            src=\"https://www.youtube.com/embed/kx_YN7BYwE8\"\n",
              "            frameborder=\"0\"\n",
              "            allowfullscreen\n",
              "        ></iframe>\n",
              "        "
            ],
            "text/plain": [
              "<IPython.lib.display.YouTubeVideo at 0x7f60d46f94d0>"
            ],
            "image/jpeg": "[encoded data removed]"
          },
          "metadata": {},
          "execution_count": 38
        }
      ]
    }
  ]
}