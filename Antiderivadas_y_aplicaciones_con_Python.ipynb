{
  "nbformat": 4,
  "nbformat_minor": 0,
  "metadata": {
    "colab": {
      "provenance": [],
      "include_colab_link": true
    },
    "kernelspec": {
      "name": "python3",
      "display_name": "Python 3"
    }
  },
  "cells": [
    {
      "cell_type": "markdown",
      "metadata": {
        "id": "view-in-github",
        "colab_type": "text"
      },
      "source": [
        "<a href=\"https://colab.research.google.com/github/josorio398/CALCULO-INTEGRAL-CON-PYTHON/blob/main/Antiderivadas_y_aplicaciones_con_Python.ipynb\" target=\"_parent\"><img src=\"https://colab.research.google.com/assets/colab-badge.svg\" alt=\"Open In Colab\"/></a>"
      ]
    },
    {
      "cell_type": "markdown",
      "metadata": {
        "id": "RVxHpsbcExUD"
      },
      "source": [
        "<p><img alt=\"logo.fua\" height=\"100px\" src=\"https://github.com/josorio398/ALGEBRA-LINEAL-CON-PYTHON/blob/master/im%C3%A1genes%20repositorio/Logo%20UAm%C3%A9rica%20nuevo%202021.ai_page-0005.jpg?raw=true\" align=\"left\" hspace=\"0px\" vspace=\"0px\"></p>\n",
        "\n",
        "<p><img alt=\"logo.fua\" height=\"26px\" src=\"https://mirrors.creativecommons.org/presskit/buttons/88x31/svg/by-nd.svg\" align=\"right\" hspace=\"0px\" vspace=\"11px\"></p>\n",
        "\n",
        "\n",
        "<center> <font size=\"6\"><b>CALCULO INTEGRAL CON PYTHON &nbsp; &nbsp; &nbsp;&nbsp;</b><center><I>Jhonny Osorio Gallego</I> &nbsp; &nbsp;&nbsp; &nbsp;&nbsp;&nbsp;&nbsp; &nbsp; &nbsp;&nbsp; &nbsp;<p></font></center> \n",
        " "
      ]
    },
    {
      "cell_type": "markdown",
      "metadata": {
        "id": "pELON3yz_46g"
      },
      "source": [
        "# **ANTIDERIVADAS Y PROBLEMAS DE VALOR INICIAL**\n",
        "\n",
        "---\n",
        "\n"
      ]
    },
    {
      "cell_type": "markdown",
      "metadata": {
        "id": "U515Q-sM2m9k"
      },
      "source": [
        "## **Importamos librería simbolica SymPy**\n",
        "**SymPy** es una biblioteca de Python para matemáticas simbólicas. Su objetivo es convertirse en un sistema de álgebra computacional (CAS) con todas las funciones, manteniendo el código lo más simple posible para que sea comprensible y fácilmente extensible. SymPy está escrito completamente en Python.[sympy.org](https://www.sympy.org/en/index.html)\n",
        "\n"
      ]
    },
    {
      "cell_type": "code",
      "metadata": {
        "id": "4wHJ9dZ3405h"
      },
      "source": [
        "from sympy import *\n",
        "init_printing() \n",
        "\n",
        "x,y,z,q,u,t = symbols(\"x y z q u t\", real = True)"
      ],
      "execution_count": 1,
      "outputs": []
    },
    {
      "cell_type": "markdown",
      "metadata": {
        "id": "LPNq31Fwyw1H"
      },
      "source": [
        "# **INTEGRALES INDEFINIDAS**\n",
        "La realización de integrales indefinidas usando la librería **SymPy** de Python se puede realizar de dos formas diferentes, la primera es usando la función **integrate( )** y la segunda es con la función **Integral( )**, a continuación se presenta algunos ejemplo.<br> </br>\n",
        "\n",
        "\n",
        "## **Función integrate( )**\n",
        "\n",
        "El cálculo de antiderivadas se puede realizar usando la función **integrate(  )** y utilizando la siguiente sintaxis:<br>\n",
        "<center><font size=4><strong>integrate(&nbsp;<em>f(x)&nbsp;</em>, variable)</strong></p></center>\n",
        "\n",
        "\n",
        "### **Ejemplo :**\n",
        "Encuentra la siguiente antiderivada: $$ \\int  \\left( 3x^2 - \\sqrt{x}+\\dfrac{1}{x}-4\\right )\\ dx$$\n"
      ]
    },
    {
      "cell_type": "code",
      "metadata": {
        "id": "ALKGj_KK2klW",
        "colab": {
          "base_uri": "https://localhost:8080/",
          "height": 56
        },
        "outputId": "be60842c-aaa3-404f-c476-71ae2b039549"
      },
      "source": [
        "integrate(3*x**2-sqrt(x)+1/x+4, x)"
      ],
      "execution_count": null,
      "outputs": [
        {
          "output_type": "execute_result",
          "data": {
            "text/plain": [
              "     3/2                    \n",
              "  2⋅x       3               \n",
              "- ────── + x  + 4⋅x + log(x)\n",
              "    3                       "
            ],
            "image/png": "[encoded data removed]",
            "text/latex": "$\\displaystyle - \\frac{2 x^{\\frac{3}{2}}}{3} + x^{3} + 4 x + \\log{\\left(x \\right)}$"
          },
          "metadata": {},
          "execution_count": 4
        }
      ]
    },
    {
      "cell_type": "markdown",
      "metadata": {
        "id": "d2S3j6g3tpHB"
      },
      "source": [
        "Se puede omitir el parámetro de la variable cuando la función depende solamente de una variable"
      ]
    },
    {
      "cell_type": "code",
      "metadata": {
        "colab": {
          "base_uri": "https://localhost:8080/",
          "height": 56
        },
        "id": "-fz5br9jtoAh",
        "outputId": "e945448f-5b46-42fe-96c9-a9306c2d9f91"
      },
      "source": [
        "integrate(3*x**2-sqrt(x)+1/x+4)"
      ],
      "execution_count": null,
      "outputs": [
        {
          "output_type": "execute_result",
          "data": {
            "text/plain": [
              "     3/2                    \n",
              "  2⋅x       3               \n",
              "- ────── + x  + 4⋅x + log(x)\n",
              "    3                       "
            ],
            "image/png": "[encoded data removed]",
            "text/latex": "$\\displaystyle - \\frac{2 x^{\\frac{3}{2}}}{3} + x^{3} + 4 x + \\log{\\left(x \\right)}$"
          },
          "metadata": {},
          "execution_count": 5
        }
      ]
    },
    {
      "cell_type": "markdown",
      "metadata": {
        "id": "mhzNJ6KYSE8V"
      },
      "source": [
        "##  **Función Integral( )**\n",
        "\n",
        "El cálculo de antiderivadas se puede realizar usando la función **Integral(  )**, inicialmente para expresar la integral, y luego aplicar sobre esta función el método **doit(  )** para calcularla, la sintaxis para usarla de manera adecuada es la siguiente:<br>\n",
        "\n",
        "<center><font size=4><strong>Integral(&nbsp;<em>f(x)&nbsp;</em>, variable).doit( )</strong></p></center>\n",
        "\n",
        "### **Ejemplo:**\n",
        "\n",
        "Encuentra la siguiente antiderivada:  $$\\int \\sec(x)\\tan(x) \\ dx$$"
      ]
    },
    {
      "cell_type": "code",
      "metadata": {
        "colab": {
          "base_uri": "https://localhost:8080/",
          "height": 55
        },
        "id": "AYLsgta0jAUJ",
        "outputId": "6ce4d824-0fa5-464a-d0c8-7c929c63d2a0"
      },
      "source": [
        "f = sec(x)*tan(x)\n",
        "Integral(f,x).doit()"
      ],
      "execution_count": null,
      "outputs": [
        {
          "output_type": "execute_result",
          "data": {
            "text/plain": [
              "  1   \n",
              "──────\n",
              "cos(x)"
            ],
            "image/png": "[encoded data removed]",
            "text/latex": "$\\displaystyle \\frac{1}{\\cos{\\left(x \\right)}}$"
          },
          "metadata": {},
          "execution_count": 6
        }
      ]
    },
    {
      "cell_type": "markdown",
      "metadata": {
        "id": "WRLdSc-Iye8T"
      },
      "source": [
        "Se puede realizar en dos lineas de codigo diferentes de la siguiente forma:"
      ]
    },
    {
      "cell_type": "code",
      "metadata": {
        "colab": {
          "base_uri": "https://localhost:8080/",
          "height": 55
        },
        "id": "mXsK1DWkyvca",
        "outputId": "287bf956-452f-4cb8-9535-c81d40c4b3fd"
      },
      "source": [
        "Integral(sec(x)*tan(x))"
      ],
      "execution_count": null,
      "outputs": [
        {
          "output_type": "execute_result",
          "data": {
            "text/plain": [
              "⌠                 \n",
              "⎮ tan(x)⋅sec(x) dx\n",
              "⌡                 "
            ],
            "image/png": "[encoded data removed]",
            "text/latex": "$\\displaystyle \\int \\tan{\\left(x \\right)} \\sec{\\left(x \\right)}\\, dx$"
          },
          "metadata": {},
          "execution_count": 7
        }
      ]
    },
    {
      "cell_type": "code",
      "metadata": {
        "colab": {
          "base_uri": "https://localhost:8080/",
          "height": 55
        },
        "id": "JcJLp3amy3G4",
        "outputId": "af3d330e-d306-46c3-edd3-62c1cc0bd696"
      },
      "source": [
        "Integral(sec(x)*tan(x)).doit()"
      ],
      "execution_count": null,
      "outputs": [
        {
          "output_type": "execute_result",
          "data": {
            "text/plain": [
              "  1   \n",
              "──────\n",
              "cos(x)"
            ],
            "image/png": "[encoded data removed]",
            "text/latex": "$\\displaystyle \\frac{1}{\\cos{\\left(x \\right)}}$"
          },
          "metadata": {},
          "execution_count": 8
        }
      ]
    },
    {
      "cell_type": "markdown",
      "metadata": {
        "id": "GXjQ_XSTGRBO"
      },
      "source": [
        "# **VERIFICACIÓN DE INTEGRALES INDEFINIDAS**\n",
        "Al realizar una integral definida podemos encontrarnos con integrales que tienen diferentes maneras de abordarse y al verificarlas haciendo uso de técnología podriamos apreciar diferentes resultados y pensar que no se realizó correctamente, en la siguiente formula usando la función **symplify( )** de Python, puede servir para verificar la integral:\n",
        "\n",
        "<center><font size=4><strong>simplify( integral en Python - Integral a mano) = constante&nbsp;</strong></p></center>\n",
        "\n",
        "### **Ejemplo:**\n",
        "\n",
        "Realiza la siguiente integral sin hacer uso de técnología y luego verifica tu resultado con **Python**.\n",
        "\n",
        "$$\\int \\! (3x^2+1)^3\\, dx $$"
      ]
    },
    {
      "cell_type": "markdown",
      "metadata": {
        "id": "O0BQrQtsJ9e8"
      },
      "source": [
        "###  **Resultado a mano**"
      ]
    },
    {
      "cell_type": "code",
      "metadata": {
        "colab": {
          "base_uri": "https://localhost:8080/",
          "height": 59
        },
        "id": "mYP_K5juI2WF",
        "outputId": "379781cc-9c2d-4031-82de-71dcb90282d7"
      },
      "source": [
        "Im = S(\"1/24\")*(3*x**2+1)**4\n",
        "Im"
      ],
      "execution_count": null,
      "outputs": [
        {
          "output_type": "execute_result",
          "data": {
            "text/plain": [
              "          4\n",
              "⎛   2    ⎞ \n",
              "⎝3⋅x  + 1⎠ \n",
              "───────────\n",
              "     24    "
            ],
            "image/png": "[encoded data removed]",
            "text/latex": "$\\displaystyle \\frac{\\left(3 x^{2} + 1\\right)^{4}}{24}$"
          },
          "metadata": {},
          "execution_count": 9
        }
      ]
    },
    {
      "cell_type": "markdown",
      "metadata": {
        "id": "WeJDd6dSJk12"
      },
      "source": [
        "\n",
        "###  **Resultado de Python**"
      ]
    },
    {
      "cell_type": "code",
      "metadata": {
        "colab": {
          "base_uri": "https://localhost:8080/",
          "height": 54
        },
        "id": "Cf3MhOPIQG_I",
        "outputId": "d7ba4c1a-7e52-4cb7-ef9f-d5439c728e74"
      },
      "source": [
        "Ip = integrate(x*(3*x**2+1)**3)\n",
        "Ip"
      ],
      "execution_count": null,
      "outputs": [
        {
          "output_type": "execute_result",
          "data": {
            "text/plain": [
              "    8      6      4    2\n",
              "27⋅x    9⋅x    9⋅x    x \n",
              "───── + ──── + ──── + ──\n",
              "  8      2      4     2 "
            ],
            "image/png": "[encoded data removed]",
            "text/latex": "$\\displaystyle \\frac{27 x^{8}}{8} + \\frac{9 x^{6}}{2} + \\frac{9 x^{4}}{4} + \\frac{x^{2}}{2}$"
          },
          "metadata": {},
          "execution_count": 10
        }
      ]
    },
    {
      "cell_type": "markdown",
      "metadata": {
        "id": "lcTOm5ihJt-B"
      },
      "source": [
        "###  **Verificación**"
      ]
    },
    {
      "cell_type": "code",
      "metadata": {
        "colab": {
          "base_uri": "https://localhost:8080/",
          "height": 51
        },
        "id": "Ga0Y5tG4zbFe",
        "outputId": "065c2f0e-e3f6-461c-b137-bbd80f200b0b"
      },
      "source": [
        "simplify(Ip -Im)"
      ],
      "execution_count": null,
      "outputs": [
        {
          "output_type": "execute_result",
          "data": {
            "text/plain": [
              "-1/24"
            ],
            "image/png": "[encoded data removed]",
            "text/latex": "$\\displaystyle - \\frac{1}{24}$"
          },
          "metadata": {},
          "execution_count": 11
        }
      ]
    },
    {
      "cell_type": "markdown",
      "metadata": {
        "id": "qLc6C0dKuyzM"
      },
      "source": [
        "# **PROBLEMAS DE VALOR INICIAL**\n",
        "\n",
        "#**Crecimiento poblacional**\n",
        "\n",
        "Mediante un censo poblacional en el año 1970, el tamaño de la población de una pequeña ciudad fue de aproximadamente 74 000 habitantes. En el censo poblacional del año 2000 se estimó que el tamaño de la población fue de 200 000 habitantes. Considerando que el tamaño de esta población ha crecido de forma proporcional, ¿cuál será el tamaño de la población en el año 2030?"
      ]
    },
    {
      "cell_type": "markdown",
      "metadata": {
        "id": "vb2xyAZZjlbq"
      },
      "source": [
        "### **Definimos las funciones y las constantes**"
      ]
    },
    {
      "cell_type": "code",
      "metadata": {
        "id": "kujxgjuCu6j5"
      },
      "source": [
        "P   = Function(\"P\")                 # Definimos la función de población\n",
        "t,k = symbols(\"t k\",real= True)     # Definimos la variable t y la constante k"
      ],
      "execution_count": 17,
      "outputs": []
    },
    {
      "cell_type": "markdown",
      "source": [
        "### **Planteamiento de la ecuación diferencial**"
      ],
      "metadata": {
        "id": "TOuKvbWqVvpQ"
      }
    },
    {
      "cell_type": "code",
      "source": [
        "Ecua = Eq(diff(P(t),t),k*P(t))       # Planteamos la ecuación diferencial\n",
        "Ecua"
      ],
      "metadata": {
        "colab": {
          "base_uri": "https://localhost:8080/",
          "height": 52
        },
        "id": "JufyiP4ZWANL",
        "outputId": "2438c6e2-01b8-4941-ceee-018d41883b92"
      },
      "execution_count": 18,
      "outputs": [
        {
          "output_type": "execute_result",
          "data": {
            "text/plain": [
              "d                \n",
              "──(P(t)) = k⋅P(t)\n",
              "dt               "
            ],
            "image/png": "[encoded data removed]",
            "text/latex": "$\\displaystyle \\frac{d}{d t} P{\\left(t \\right)} = k P{\\left(t \\right)}$"
          },
          "metadata": {},
          "execution_count": 18
        }
      ]
    },
    {
      "cell_type": "markdown",
      "metadata": {
        "id": "se7jrxd7FyCO"
      },
      "source": [
        "### **Solución general de la ecuación diferencial**"
      ]
    },
    {
      "cell_type": "code",
      "metadata": {
        "colab": {
          "base_uri": "https://localhost:8080/",
          "height": 39
        },
        "id": "y1lgyJI-F4Zr",
        "outputId": "5a2f0a79-5e95-4905-a6ee-3d36fd0e0873"
      },
      "source": [
        "poblacion = dsolve(Ecua,P(t))      # Resolvemos la ecuación diferencial de forma general\n",
        "poblacion"
      ],
      "execution_count": 19,
      "outputs": [
        {
          "output_type": "execute_result",
          "data": {
            "text/plain": [
              "           k⋅t\n",
              "P(t) = C₁⋅ℯ   "
            ],
            "image/png": "[encoded data removed]",
            "text/latex": "$\\displaystyle P{\\left(t \\right)} = C_{1} e^{k t}$"
          },
          "metadata": {},
          "execution_count": 19
        }
      ]
    },
    {
      "cell_type": "markdown",
      "metadata": {
        "id": "QTFrZAQ8j1ix"
      },
      "source": [
        "### **Solución particular - reemplazando la condición inicial**"
      ]
    },
    {
      "cell_type": "code",
      "metadata": {
        "colab": {
          "base_uri": "https://localhost:8080/",
          "height": 39
        },
        "id": "vO8el0He8Fxe",
        "outputId": "a8280490-d5d3-43a3-c67d-62cf35ff66be"
      },
      "source": [
        "t0,p0 = 0,74\n",
        "\n",
        "poblacion = dsolve(Ecua,P(t),ics={P(t0):p0})  # Resolvemos la ecuación diferencial con la condición inicial\n",
        "poblacion "
      ],
      "execution_count": 20,
      "outputs": [
        {
          "output_type": "execute_result",
          "data": {
            "text/plain": [
              "           k⋅t\n",
              "P(t) = 74⋅ℯ   "
            ],
            "image/png": "[encoded data removed]",
            "text/latex": "$\\displaystyle P{\\left(t \\right)} = 74 e^{k t}$"
          },
          "metadata": {},
          "execution_count": 20
        }
      ]
    },
    {
      "cell_type": "markdown",
      "source": [
        "#### **Cálculo de la constante $k$**"
      ],
      "metadata": {
        "id": "W7qz_s6LszE8"
      }
    },
    {
      "cell_type": "code",
      "source": [
        "t1,p1 = 30, 2000\n",
        "\n",
        "ecu = poblacion.subs(t,t1).subs(P(t1),p1)\n",
        "constant_k = solve(ecu)[0].evalf(3)\n",
        "constant_k  #valor de la constante k"
      ],
      "metadata": {
        "colab": {
          "base_uri": "https://localhost:8080/",
          "height": 37
        },
        "id": "-qb0oWdxXLOo",
        "outputId": "8edb855e-e4dd-4be6-8c42-dfb21e494eb2"
      },
      "execution_count": 21,
      "outputs": [
        {
          "output_type": "execute_result",
          "data": {
            "text/plain": [
              "0.110"
            ],
            "image/png": "[encoded data removed]",
            "text/latex": "$\\displaystyle 0.11$"
          },
          "metadata": {},
          "execution_count": 21
        }
      ]
    },
    {
      "cell_type": "markdown",
      "source": [
        "#### **Ecuación del modelo**"
      ],
      "metadata": {
        "id": "HGKtj-k8uAtR"
      }
    },
    {
      "cell_type": "code",
      "source": [
        "poblacion = poblacion.subs(k,constant_k)\n",
        "poblacion"
      ],
      "metadata": {
        "colab": {
          "base_uri": "https://localhost:8080/",
          "height": 39
        },
        "id": "h43sPqbfY9ET",
        "outputId": "67bf5f2b-9873-489f-a3f9-b1e76aeb0231"
      },
      "execution_count": 23,
      "outputs": [
        {
          "output_type": "execute_result",
          "data": {
            "text/plain": [
              "           0.11⋅t\n",
              "P(t) = 74⋅ℯ      "
            ],
            "image/png": "[encoded data removed]",
            "text/latex": "$\\displaystyle P{\\left(t \\right)} = 74 e^{0.11 t}$"
          },
          "metadata": {},
          "execution_count": 23
        }
      ]
    },
    {
      "cell_type": "markdown",
      "source": [
        "#### **Respuesta**"
      ],
      "metadata": {
        "id": "6xOwmrzPb7Qj"
      }
    },
    {
      "cell_type": "code",
      "source": [
        "ecu_modelo.subs(t,60)"
      ],
      "metadata": {
        "colab": {
          "base_uri": "https://localhost:8080/",
          "height": 39
        },
        "outputId": "a985cd57-6873-4ed5-922d-83712ac69eae",
        "id": "Yr58mPglb7Qk"
      },
      "execution_count": 25,
      "outputs": [
        {
          "output_type": "execute_result",
          "data": {
            "text/plain": [
              "P(60) = 5.41e+4"
            ],
            "image/png": "[encoded data removed]",
            "text/latex": "$\\displaystyle P{\\left(60 \\right)} = 5.41 \\cdot 10^{4}$"
          },
          "metadata": {},
          "execution_count": 25
        }
      ]
    },
    {
      "cell_type": "markdown",
      "metadata": {
        "id": "LlhTHIPuq3ai"
      },
      "source": [
        "#  **Problema movimiento vertical**\n",
        "Si se deja caer una piedra desde la terraza de un edificio y se observa que tarda 6 s en llegar al suelo. Calcular:\n",
        "\n",
        "* ¿A qué altura estaría esa terraza?.\n",
        "\n",
        "* ¿Con qué velocidad llegaría la piedra al piso?."
      ]
    },
    {
      "cell_type": "markdown",
      "metadata": {
        "id": "KieDk_g9cpPB"
      },
      "source": [
        "### **Definimos las funciones y las constantes**"
      ]
    },
    {
      "cell_type": "code",
      "metadata": {
        "id": "-Gr04ls3cpPZ"
      },
      "source": [
        "v = Function(\"v\")             # Definimos función de velocidad\n",
        "y = Function(\"y\")             # Definimos función de posición\n",
        "\n",
        "t = symbols(\"t \",real= True)  # Definimos variable tiempo"
      ],
      "execution_count": 26,
      "outputs": []
    },
    {
      "cell_type": "markdown",
      "metadata": {
        "id": "H1euhYZZG_4J"
      },
      "source": [
        "### **Planteamiento de la ecuación diferencial**"
      ]
    },
    {
      "cell_type": "code",
      "metadata": {
        "colab": {
          "base_uri": "https://localhost:8080/",
          "height": 52
        },
        "id": "ZnQOmx-8xk2r",
        "outputId": "8fdf04df-9437-4dbb-ac38-bbcdeeee2b98"
      },
      "source": [
        "g = -9.8                      # Definimos constante gravedad\n",
        "\n",
        "Ecu = Eq(diff(v(t),t),g)      # Ecuación diferencial para la velocidad\n",
        "Ecu"
      ],
      "execution_count": 27,
      "outputs": [
        {
          "output_type": "execute_result",
          "data": {
            "text/plain": [
              "d              \n",
              "──(v(t)) = -9.8\n",
              "dt             "
            ],
            "image/png": "[encoded data removed]",
            "text/latex": "$\\displaystyle \\frac{d}{d t} v{\\left(t \\right)} = -9.8$"
          },
          "metadata": {},
          "execution_count": 27
        }
      ]
    },
    {
      "cell_type": "markdown",
      "metadata": {
        "id": "4pbOJBw7HEPF"
      },
      "source": [
        "### **Solución general - ecuación de velocidad**"
      ]
    },
    {
      "cell_type": "code",
      "metadata": {
        "colab": {
          "base_uri": "https://localhost:8080/",
          "height": 51
        },
        "id": "T7ObC3ynHLA0",
        "outputId": "29122bf4-63cd-48a5-e1cb-79deea7c593a"
      },
      "source": [
        "velocidad = dsolve(Ecu,v(t))  # Resolvemos ecuación diferencial\n",
        "velocidad"
      ],
      "execution_count": 28,
      "outputs": [
        {
          "output_type": "execute_result",
          "data": {
            "text/plain": [
              "            49⋅t\n",
              "v(t) = C₁ - ────\n",
              "             5  "
            ],
            "image/png": "[encoded data removed]",
            "text/latex": "$\\displaystyle v{\\left(t \\right)} = C_{1} - \\frac{49 t}{5}$"
          },
          "metadata": {},
          "execution_count": 28
        }
      ]
    },
    {
      "cell_type": "markdown",
      "metadata": {
        "id": "pplmVwAPHYNX"
      },
      "source": [
        "### **Solución particular - ecuación de velocidad**"
      ]
    },
    {
      "cell_type": "code",
      "metadata": {
        "colab": {
          "base_uri": "https://localhost:8080/",
          "height": 51
        },
        "id": "98lEQvvXpl2E",
        "outputId": "8156d40f-3897-4684-fc81-e74d91c90288"
      },
      "source": [
        "t0, v0 = 0, 50  # Condición inicial t=0, v=50\n",
        "\n",
        "velocidad = dsolve(Ecu,v(t),ics={v(t0):v0}) # Resolvemos la ecuación diferencial con la condición inicial \n",
        "velocidad  "
      ],
      "execution_count": 29,
      "outputs": [
        {
          "output_type": "execute_result",
          "data": {
            "text/plain": [
              "            49⋅t\n",
              "v(t) = 50 - ────\n",
              "             5  "
            ],
            "image/png": "[encoded data removed]",
            "text/latex": "$\\displaystyle v{\\left(t \\right)} = 50 - \\frac{49 t}{5}$"
          },
          "metadata": {},
          "execution_count": 29
        }
      ]
    },
    {
      "cell_type": "markdown",
      "metadata": {
        "id": "P118yDOBHqG1"
      },
      "source": [
        "### **Planteamiento de la ecuación diferencial**"
      ]
    },
    {
      "cell_type": "code",
      "metadata": {
        "colab": {
          "base_uri": "https://localhost:8080/",
          "height": 52
        },
        "id": "yU7SQhrXrU9z",
        "outputId": "7061e35d-ae91-4082-e032-89e1f364c675"
      },
      "source": [
        "Ecu = Eq(diff(y(t),t),velocidad.rhs) #Ecuación diferencial para la posición\n",
        "Ecu"
      ],
      "execution_count": 30,
      "outputs": [
        {
          "output_type": "execute_result",
          "data": {
            "text/plain": [
              "d               49⋅t\n",
              "──(y(t)) = 50 - ────\n",
              "dt               5  "
            ],
            "image/png": "[encoded data removed]",
            "text/latex": "$\\displaystyle \\frac{d}{d t} y{\\left(t \\right)} = 50 - \\frac{49 t}{5}$"
          },
          "metadata": {},
          "execution_count": 30
        }
      ]
    },
    {
      "cell_type": "markdown",
      "metadata": {
        "id": "5xe3CqXhHxGZ"
      },
      "source": [
        "### **Solución general de la ecuación de posición**"
      ]
    },
    {
      "cell_type": "code",
      "metadata": {
        "colab": {
          "base_uri": "https://localhost:8080/",
          "height": 54
        },
        "id": "60IMtzn_H3hl",
        "outputId": "ba40b8b4-690f-4fa3-89a8-42984ff1c4a7"
      },
      "source": [
        "posicion = dsolve(Ecu,y(t))  # Resolvemos la ecuación diferencial con la condición inicial \n",
        "posicion"
      ],
      "execution_count": 31,
      "outputs": [
        {
          "output_type": "execute_result",
          "data": {
            "text/plain": [
              "                2       \n",
              "            49⋅t        \n",
              "y(t) = C₁ - ───── + 50⋅t\n",
              "              10        "
            ],
            "image/png": "[encoded data removed]",
            "text/latex": "$\\displaystyle y{\\left(t \\right)} = C_{1} - \\frac{49 t^{2}}{10} + 50 t$"
          },
          "metadata": {},
          "execution_count": 31
        }
      ]
    },
    {
      "cell_type": "markdown",
      "metadata": {
        "id": "GpUYxZj_IKaK"
      },
      "source": [
        "### **Solución particular la ecuación de posición**"
      ]
    },
    {
      "cell_type": "code",
      "metadata": {
        "colab": {
          "base_uri": "https://localhost:8080/",
          "height": 54
        },
        "id": "v3ESC_V7tjJP",
        "outputId": "43d5ecf7-addc-4938-9802-74cb7c8c95d6"
      },
      "source": [
        "t0, y0 = 0, 0  # Condición inicial\n",
        "\n",
        "posicion = dsolve(Ecu,y(t),ics={y(t0):y0})\n",
        "posicion"
      ],
      "execution_count": 34,
      "outputs": [
        {
          "output_type": "execute_result",
          "data": {
            "text/plain": [
              "             2       \n",
              "         49⋅t        \n",
              "y(t) = - ───── + 50⋅t\n",
              "           10        "
            ],
            "image/png": "[encoded data removed]",
            "text/latex": "$\\displaystyle y{\\left(t \\right)} = - \\frac{49 t^{2}}{10} + 50 t$"
          },
          "metadata": {},
          "execution_count": 34
        }
      ]
    },
    {
      "cell_type": "markdown",
      "source": [
        "### **Respuestas**"
      ],
      "metadata": {
        "id": "G5Iq0BtyCxrL"
      }
    },
    {
      "cell_type": "code",
      "source": [
        "#altura máxima\n",
        "solve(posicion.subs(t,6))"
      ],
      "metadata": {
        "colab": {
          "base_uri": "https://localhost:8080/",
          "height": 58
        },
        "id": "RrUWkjQEDm0W",
        "outputId": "b4a52080-3f0b-4eb9-c36a-8fbd59b7ffe1"
      },
      "execution_count": 35,
      "outputs": [
        {
          "output_type": "execute_result",
          "data": {
            "text/plain": [
              "[{y(6): 618/5}]"
            ],
            "image/png": "[encoded data removed]",
            "text/latex": "$\\displaystyle \\left[ \\left\\{ y{\\left(6 \\right)} : \\frac{618}{5}\\right\\}\\right]$"
          },
          "metadata": {},
          "execution_count": 35
        }
      ]
    }
  ]
}