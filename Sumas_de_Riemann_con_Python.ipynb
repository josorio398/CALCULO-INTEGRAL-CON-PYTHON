{
  "nbformat": 4,
  "nbformat_minor": 0,
  "metadata": {
    "colab": {
      "provenance": [],
      "include_colab_link": true
    },
    "kernelspec": {
      "name": "python3",
      "display_name": "Python 3"
    },
    "widgets": {
      "application/vnd.jupyter.widget-state+json": {
        "1446410170174800be4163cff2e97859": {
          "model_module": "@jupyter-widgets/controls",
          "model_name": "VBoxModel",
          "model_module_version": "1.5.0",
          "state": {
            "_dom_classes": [
              "widget-interact"
            ],
            "_model_module": "@jupyter-widgets/controls",
            "_model_module_version": "1.5.0",
            "_model_name": "VBoxModel",
            "_view_count": null,
            "_view_module": "@jupyter-widgets/controls",
            "_view_module_version": "1.5.0",
            "_view_name": "VBoxView",
            "box_style": "",
            "children": [
              "IPY_MODEL_2fbcfe464c28478daa7242bc81c5a536",
              "IPY_MODEL_7e5be703f66440ee8924020bbe397586"
            ],
            "layout": "IPY_MODEL_9269dd37c4f24ae1baf56e1205a7f0e4"
          }
        },
        "2fbcfe464c28478daa7242bc81c5a536": {
          "model_module": "@jupyter-widgets/controls",
          "model_name": "IntSliderModel",
          "model_module_version": "1.5.0",
          "state": {
            "_dom_classes": [],
            "_model_module": "@jupyter-widgets/controls",
            "_model_module_version": "1.5.0",
            "_model_name": "IntSliderModel",
            "_view_count": null,
            "_view_module": "@jupyter-widgets/controls",
            "_view_module_version": "1.5.0",
            "_view_name": "IntSliderView",
            "continuous_update": true,
            "description": "n",
            "description_tooltip": null,
            "disabled": false,
            "layout": "IPY_MODEL_e771edda337b49b6be3c36e912c025d6",
            "max": 1000,
            "min": 1,
            "orientation": "horizontal",
            "readout": true,
            "readout_format": "d",
            "step": 1,
            "style": "IPY_MODEL_0b2088f815a7483bb0e2b9dbee154615",
            "value": 10
          }
        },
        "7e5be703f66440ee8924020bbe397586": {
          "model_module": "@jupyter-widgets/output",
          "model_name": "OutputModel",
          "model_module_version": "1.0.0",
          "state": {
            "_dom_classes": [],
            "_model_module": "@jupyter-widgets/output",
            "_model_module_version": "1.0.0",
            "_model_name": "OutputModel",
            "_view_count": null,
            "_view_module": "@jupyter-widgets/output",
            "_view_module_version": "1.0.0",
            "_view_name": "OutputView",
            "layout": "IPY_MODEL_10db1cbf04aa4f58bba5ec89c92598e1",
            "msg_id": "",
            "outputs": [
              {
                "output_type": "display_data",
                "data": {
                  "text/html": "<html>\n<head><meta charset=\"utf-8\" /></head>\n<body>\n    <div>            <script src=\"https://cdnjs.cloudflare.com/ajax/libs/mathjax/2.7.5/MathJax.js?config=TeX-AMS-MML_SVG\"></script><script type=\"text/javascript\">if (window.MathJax && window.MathJax.Hub && window.MathJax.Hub.Config) {window.MathJax.Hub.Config({SVG: {font: \"STIX-Web\"}});}</script>                <script type=\"text/javascript\">window.PlotlyConfig = {MathJaxConfig: 'local'};</script>\n        <script src=\"https://cdn.plot.ly/plotly-2.16.1.min.js\"></script>                <div id=\"2ed68b81-3a76-4c3c-95c8-c50e2a234f44\" class=\"plotly-graph-div\" style=\"height:600px; width:800px;\"></div>            <script type=\"text/javascript\">                                    window.PLOTLYENV=window.PLOTLYENV || {};                                    if (document.getElementById(\"2ed68b81-3a76-4c3c-95c8-c50e2a234f44\")) {                    Plotly.newPlot(                        \"2ed68b81-3a76-4c3c-95c8-c50e2a234f44\",                        [{\"line\":{\"color\":\"blue\"},\"name\":\"f(x)\",\"x\":[1.0,1.02020202020202,1.0404040404040404,1.0606060606060606,1.0808080808080809,1.101010101010101,1.121212121212121,1.1414141414141414,1.1616161616161615,1.1818181818181819,1.202020202020202,1.2222222222222223,1.2424242424242424,1.2626262626262625,1.2828282828282829,1.303030303030303,1.3232323232323233,1.3434343434343434,1.3636363636363638,1.3838383838383839,1.404040404040404,1.4242424242424243,1.4444444444444444,1.4646464646464648,1.4848484848484849,1.5050505050505052,1.5252525252525253,1.5454545454545454,1.5656565656565657,1.5858585858585859,1.606060606060606,1.6262626262626263,1.6464646464646466,1.6666666666666667,1.6868686868686869,1.7070707070707072,1.7272727272727273,1.7474747474747474,1.7676767676767677,1.787878787878788,1.8080808080808082,1.8282828282828283,1.8484848484848486,1.8686868686868687,1.8888888888888888,1.9090909090909092,1.9292929292929295,1.9494949494949496,1.9696969696969697,1.98989898989899,2.0101010101010104,2.0303030303030303,2.0505050505050506,2.070707070707071,2.090909090909091,2.111111111111111,2.1313131313131315,2.1515151515151514,2.1717171717171717,2.191919191919192,2.212121212121212,2.2323232323232327,2.2525252525252526,2.272727272727273,2.2929292929292933,2.313131313131313,2.3333333333333335,2.353535353535354,2.3737373737373737,2.393939393939394,2.4141414141414144,2.4343434343434343,2.4545454545454546,2.474747474747475,2.494949494949495,2.5151515151515156,2.5353535353535355,2.5555555555555554,2.575757575757576,2.595959595959596,2.6161616161616164,2.6363636363636367,2.6565656565656566,2.676767676767677,2.6969696969696972,2.717171717171717,2.7373737373737375,2.757575757575758,2.7777777777777777,2.7979797979797985,2.8181818181818183,2.8383838383838382,2.858585858585859,2.878787878787879,2.8989898989898992,2.9191919191919196,2.9393939393939394,2.95959595959596,2.97979797979798,3.0],\"y\":[1.0,1.040812162024283,1.0824405672890522,1.1248852157943066,1.168146107540047,1.212223242526273,1.2571166207529842,1.3028262422201817,1.3493521069278644,1.3966942148760333,1.4448525660646871,1.4938271604938274,1.5436179981634528,1.5942250790735637,1.645648403224161,1.6978879706152432,1.7509437812468118,1.8048158351188655,1.8595041322314052,1.9150086725844302,1.9713294561779409,2.028466483011938,2.0864197530864197,2.145189266401388,2.204775022956841,2.2651770227527805,2.3263952657892055,2.3884297520661155,2.4512804815835123,2.5149474543413937,2.579430670339761,2.6447301295786145,2.7108458320579536,2.777777777777778,2.845525966738088,2.914090398938884,2.9834710743801653,3.053667993061932,3.1246811549841853,3.1965105601469244,3.2691562085501484,3.342618100193858,3.416896235078054,3.4919906132027347,3.567901234567901,3.6446280991735542,3.722171207019693,3.800530558106316,3.879706152433425,3.959697990001021,4.040506070809102,4.122130394857668,4.20457096214672,4.287827772676258,4.37190082644628,4.45679012345679,4.542495663707785,4.6290174471992644,4.716355473931231,4.804509743903684,4.89348025711662,4.983267013570045,5.073870013263953,5.165289256198348,5.257524742373229,5.350576471788593,5.4444444444444455,5.539128660340783,5.634629119477604,5.730945821854913,5.828078767472708,5.926027956330986,6.024793388429752,6.124375063769004,6.224772982348739,6.325987144168964,6.428017549229671,6.530864197530863,6.634527089072545,6.739006223854709,6.84430160187736,6.950413223140497,7.057341087644118,7.165085195388227,7.273645546372821,7.383022140597898,7.493214978063463,7.604224058769515,7.716049382716049,7.8286909499030735,7.942148760330579,8.056422813998571,8.171513110907053,8.287419651056016,8.404142434445466,8.521681461075403,8.640036730945821,8.75920824405673,8.879196000408124,9.0],\"type\":\"scatter\"}],                        {\"template\":{\"data\":{\"histogram2dcontour\":[{\"type\":\"histogram2dcontour\",\"colorbar\":{\"outlinewidth\":0,\"ticks\":\"\"},\"colorscale\":[[0.0,\"#0d0887\"],[0.1111111111111111,\"#46039f\"],[0.2222222222222222,\"#7201a8\"],[0.3333333333333333,\"#9c179e\"],[0.4444444444444444,\"#bd3786\"],[0.5555555555555556,\"#d8576b\"],[0.6666666666666666,\"#ed7953\"],[0.7777777777777778,\"#fb9f3a\"],[0.8888888888888888,\"#fdca26\"],[1.0,\"#f0f921\"]]}],\"choropleth\":[{\"type\":\"choropleth\",\"colorbar\":{\"outlinewidth\":0,\"ticks\":\"\"}}],\"histogram2d\":[{\"type\":\"histogram2d\",\"colorbar\":{\"outlinewidth\":0,\"ticks\":\"\"},\"colorscale\":[[0.0,\"#0d0887\"],[0.1111111111111111,\"#46039f\"],[0.2222222222222222,\"#7201a8\"],[0.3333333333333333,\"#9c179e\"],[0.4444444444444444,\"#bd3786\"],[0.5555555555555556,\"#d8576b\"],[0.6666666666666666,\"#ed7953\"],[0.7777777777777778,\"#fb9f3a\"],[0.8888888888888888,\"#fdca26\"],[1.0,\"#f0f921\"]]}],\"heatmap\":[{\"type\":\"heatmap\",\"colorbar\":{\"outlinewidth\":0,\"ticks\":\"\"},\"colorscale\":[[0.0,\"#0d0887\"],[0.1111111111111111,\"#46039f\"],[0.2222222222222222,\"#7201a8\"],[0.3333333333333333,\"#9c179e\"],[0.4444444444444444,\"#bd3786\"],[0.5555555555555556,\"#d8576b\"],[0.6666666666666666,\"#ed7953\"],[0.7777777777777778,\"#fb9f3a\"],[0.8888888888888888,\"#fdca26\"],[1.0,\"#f0f921\"]]}],\"heatmapgl\":[{\"type\":\"heatmapgl\",\"colorbar\":{\"outlinewidth\":0,\"ticks\":\"\"},\"colorscale\":[[0.0,\"#0d0887\"],[0.1111111111111111,\"#46039f\"],[0.2222222222222222,\"#7201a8\"],[0.3333333333333333,\"#9c179e\"],[0.4444444444444444,\"#bd3786\"],[0.5555555555555556,\"#d8576b\"],[0.6666666666666666,\"#ed7953\"],[0.7777777777777778,\"#fb9f3a\"],[0.8888888888888888,\"#fdca26\"],[1.0,\"#f0f921\"]]}],\"contourcarpet\":[{\"type\":\"contourcarpet\",\"colorbar\":{\"outlinewidth\":0,\"ticks\":\"\"}}],\"contour\":[{\"type\":\"contour\",\"colorbar\":{\"outlinewidth\":0,\"ticks\":\"\"},\"colorscale\":[[0.0,\"#0d0887\"],[0.1111111111111111,\"#46039f\"],[0.2222222222222222,\"#7201a8\"],[0.3333333333333333,\"#9c179e\"],[0.4444444444444444,\"#bd3786\"],[0.5555555555555556,\"#d8576b\"],[0.6666666666666666,\"#ed7953\"],[0.7777777777777778,\"#fb9f3a\"],[0.8888888888888888,\"#fdca26\"],[1.0,\"#f0f921\"]]}],\"surface\":[{\"type\":\"surface\",\"colorbar\":{\"outlinewidth\":0,\"ticks\":\"\"},\"colorscale\":[[0.0,\"#0d0887\"],[0.1111111111111111,\"#46039f\"],[0.2222222222222222,\"#7201a8\"],[0.3333333333333333,\"#9c179e\"],[0.4444444444444444,\"#bd3786\"],[0.5555555555555556,\"#d8576b\"],[0.6666666666666666,\"#ed7953\"],[0.7777777777777778,\"#fb9f3a\"],[0.8888888888888888,\"#fdca26\"],[1.0,\"#f0f921\"]]}],\"mesh3d\":[{\"type\":\"mesh3d\",\"colorbar\":{\"outlinewidth\":0,\"ticks\":\"\"}}],\"scatter\":[{\"fillpattern\":{\"fillmode\":\"overlay\",\"size\":10,\"solidity\":0.2},\"type\":\"scatter\"}],\"parcoords\":[{\"type\":\"parcoords\",\"line\":{\"colorbar\":{\"outlinewidth\":0,\"ticks\":\"\"}}}],\"scatterpolargl\":[{\"type\":\"scatterpolargl\",\"marker\":{\"colorbar\":{\"outlinewidth\":0,\"ticks\":\"\"}}}],\"bar\":[{\"error_x\":{\"color\":\"#2a3f5f\"},\"error_y\":{\"color\":\"#2a3f5f\"},\"marker\":{\"line\":{\"color\":\"#E5ECF6\",\"width\":0.5},\"pattern\":{\"fillmode\":\"overlay\",\"size\":10,\"solidity\":0.2}},\"type\":\"bar\"}],\"scattergeo\":[{\"type\":\"scattergeo\",\"marker\":{\"colorbar\":{\"outlinewidth\":0,\"ticks\":\"\"}}}],\"scatterpolar\":[{\"type\":\"scatterpolar\",\"marker\":{\"colorbar\":{\"outlinewidth\":0,\"ticks\":\"\"}}}],\"histogram\":[{\"marker\":{\"pattern\":{\"fillmode\":\"overlay\",\"size\":10,\"solidity\":0.2}},\"type\":\"histogram\"}],\"scattergl\":[{\"type\":\"scattergl\",\"marker\":{\"colorbar\":{\"outlinewidth\":0,\"ticks\":\"\"}}}],\"scatter3d\":[{\"type\":\"scatter3d\",\"line\":{\"colorbar\":{\"outlinewidth\":0,\"ticks\":\"\"}},\"marker\":{\"colorbar\":{\"outlinewidth\":0,\"ticks\":\"\"}}}],\"scattermapbox\":[{\"type\":\"scattermapbox\",\"marker\":{\"colorbar\":{\"outlinewidth\":0,\"ticks\":\"\"}}}],\"scatterternary\":[{\"type\":\"scatterternary\",\"marker\":{\"colorbar\":{\"outlinewidth\":0,\"ticks\":\"\"}}}],\"scattercarpet\":[{\"type\":\"scattercarpet\",\"marker\":{\"colorbar\":{\"outlinewidth\":0,\"ticks\":\"\"}}}],\"carpet\":[{\"aaxis\":{\"endlinecolor\":\"#2a3f5f\",\"gridcolor\":\"white\",\"linecolor\":\"white\",\"minorgridcolor\":\"white\",\"startlinecolor\":\"#2a3f5f\"},\"baxis\":{\"endlinecolor\":\"#2a3f5f\",\"gridcolor\":\"white\",\"linecolor\":\"white\",\"minorgridcolor\":\"white\",\"startlinecolor\":\"#2a3f5f\"},\"type\":\"carpet\"}],\"table\":[{\"cells\":{\"fill\":{\"color\":\"#EBF0F8\"},\"line\":{\"color\":\"white\"}},\"header\":{\"fill\":{\"color\":\"#C8D4E3\"},\"line\":{\"color\":\"white\"}},\"type\":\"table\"}],\"barpolar\":[{\"marker\":{\"line\":{\"color\":\"#E5ECF6\",\"width\":0.5},\"pattern\":{\"fillmode\":\"overlay\",\"size\":10,\"solidity\":0.2}},\"type\":\"barpolar\"}],\"pie\":[{\"automargin\":true,\"type\":\"pie\"}]},\"layout\":{\"autotypenumbers\":\"strict\",\"colorway\":[\"#636efa\",\"#EF553B\",\"#00cc96\",\"#ab63fa\",\"#FFA15A\",\"#19d3f3\",\"#FF6692\",\"#B6E880\",\"#FF97FF\",\"#FECB52\"],\"font\":{\"color\":\"#2a3f5f\"},\"hovermode\":\"closest\",\"hoverlabel\":{\"align\":\"left\"},\"paper_bgcolor\":\"white\",\"plot_bgcolor\":\"#E5ECF6\",\"polar\":{\"bgcolor\":\"#E5ECF6\",\"angularaxis\":{\"gridcolor\":\"white\",\"linecolor\":\"white\",\"ticks\":\"\"},\"radialaxis\":{\"gridcolor\":\"white\",\"linecolor\":\"white\",\"ticks\":\"\"}},\"ternary\":{\"bgcolor\":\"#E5ECF6\",\"aaxis\":{\"gridcolor\":\"white\",\"linecolor\":\"white\",\"ticks\":\"\"},\"baxis\":{\"gridcolor\":\"white\",\"linecolor\":\"white\",\"ticks\":\"\"},\"caxis\":{\"gridcolor\":\"white\",\"linecolor\":\"white\",\"ticks\":\"\"}},\"coloraxis\":{\"colorbar\":{\"outlinewidth\":0,\"ticks\":\"\"}},\"colorscale\":{\"sequential\":[[0.0,\"#0d0887\"],[0.1111111111111111,\"#46039f\"],[0.2222222222222222,\"#7201a8\"],[0.3333333333333333,\"#9c179e\"],[0.4444444444444444,\"#bd3786\"],[0.5555555555555556,\"#d8576b\"],[0.6666666666666666,\"#ed7953\"],[0.7777777777777778,\"#fb9f3a\"],[0.8888888888888888,\"#fdca26\"],[1.0,\"#f0f921\"]],\"sequentialminus\":[[0.0,\"#0d0887\"],[0.1111111111111111,\"#46039f\"],[0.2222222222222222,\"#7201a8\"],[0.3333333333333333,\"#9c179e\"],[0.4444444444444444,\"#bd3786\"],[0.5555555555555556,\"#d8576b\"],[0.6666666666666666,\"#ed7953\"],[0.7777777777777778,\"#fb9f3a\"],[0.8888888888888888,\"#fdca26\"],[1.0,\"#f0f921\"]],\"diverging\":[[0,\"#8e0152\"],[0.1,\"#c51b7d\"],[0.2,\"#de77ae\"],[0.3,\"#f1b6da\"],[0.4,\"#fde0ef\"],[0.5,\"#f7f7f7\"],[0.6,\"#e6f5d0\"],[0.7,\"#b8e186\"],[0.8,\"#7fbc41\"],[0.9,\"#4d9221\"],[1,\"#276419\"]]},\"xaxis\":{\"gridcolor\":\"white\",\"linecolor\":\"white\",\"ticks\":\"\",\"title\":{\"standoff\":15},\"zerolinecolor\":\"white\",\"automargin\":true,\"zerolinewidth\":2},\"yaxis\":{\"gridcolor\":\"white\",\"linecolor\":\"white\",\"ticks\":\"\",\"title\":{\"standoff\":15},\"zerolinecolor\":\"white\",\"automargin\":true,\"zerolinewidth\":2},\"scene\":{\"xaxis\":{\"backgroundcolor\":\"#E5ECF6\",\"gridcolor\":\"white\",\"linecolor\":\"white\",\"showbackground\":true,\"ticks\":\"\",\"zerolinecolor\":\"white\",\"gridwidth\":2},\"yaxis\":{\"backgroundcolor\":\"#E5ECF6\",\"gridcolor\":\"white\",\"linecolor\":\"white\",\"showbackground\":true,\"ticks\":\"\",\"zerolinecolor\":\"white\",\"gridwidth\":2},\"zaxis\":{\"backgroundcolor\":\"#E5ECF6\",\"gridcolor\":\"white\",\"linecolor\":\"white\",\"showbackground\":true,\"ticks\":\"\",\"zerolinecolor\":\"white\",\"gridwidth\":2}},\"shapedefaults\":{\"line\":{\"color\":\"#2a3f5f\"}},\"annotationdefaults\":{\"arrowcolor\":\"#2a3f5f\",\"arrowhead\":0,\"arrowwidth\":1},\"geo\":{\"bgcolor\":\"white\",\"landcolor\":\"#E5ECF6\",\"subunitcolor\":\"white\",\"showland\":true,\"showlakes\":true,\"lakecolor\":\"white\"},\"title\":{\"x\":0.05},\"mapbox\":{\"style\":\"light\"}}},\"shapes\":[{\"fillcolor\":\"red\",\"line\":{\"color\":\"red\"},\"opacity\":0.4,\"type\":\"rect\",\"x0\":1.0,\"x1\":1.2,\"y0\":0,\"y1\":1.44},{\"fillcolor\":\"red\",\"line\":{\"color\":\"red\"},\"opacity\":0.4,\"type\":\"rect\",\"x0\":1.2,\"x1\":1.4,\"y0\":0,\"y1\":1.9599999999999997},{\"fillcolor\":\"red\",\"line\":{\"color\":\"red\"},\"opacity\":0.4,\"type\":\"rect\",\"x0\":1.4,\"x1\":1.6,\"y0\":0,\"y1\":2.5600000000000005},{\"fillcolor\":\"red\",\"line\":{\"color\":\"red\"},\"opacity\":0.4,\"type\":\"rect\",\"x0\":1.6,\"x1\":1.8,\"y0\":0,\"y1\":3.24},{\"fillcolor\":\"red\",\"line\":{\"color\":\"red\"},\"opacity\":0.4,\"type\":\"rect\",\"x0\":1.8,\"x1\":2.0,\"y0\":0,\"y1\":4.0},{\"fillcolor\":\"red\",\"line\":{\"color\":\"red\"},\"opacity\":0.4,\"type\":\"rect\",\"x0\":2.0,\"x1\":2.2,\"y0\":0,\"y1\":4.840000000000001},{\"fillcolor\":\"red\",\"line\":{\"color\":\"red\"},\"opacity\":0.4,\"type\":\"rect\",\"x0\":2.2,\"x1\":2.4000000000000004,\"y0\":0,\"y1\":5.760000000000002},{\"fillcolor\":\"red\",\"line\":{\"color\":\"red\"},\"opacity\":0.4,\"type\":\"rect\",\"x0\":2.4000000000000004,\"x1\":2.6,\"y0\":0,\"y1\":6.760000000000001},{\"fillcolor\":\"red\",\"line\":{\"color\":\"red\"},\"opacity\":0.4,\"type\":\"rect\",\"x0\":2.6,\"x1\":2.8,\"y0\":0,\"y1\":7.839999999999999},{\"fillcolor\":\"red\",\"line\":{\"color\":\"red\"},\"opacity\":0.4,\"type\":\"rect\",\"x0\":2.8,\"x1\":3.0,\"y0\":0,\"y1\":9.0}],\"title\":{\"text\":\"Right Riemann Sums, Rectangles = 10, Area = 9.48\",\"x\":0.5,\"y\":0.9},\"xaxis\":{\"title\":{\"text\":\"x\"}},\"yaxis\":{\"title\":{\"text\":\"y\"}},\"width\":800,\"height\":600},                        {\"responsive\": true}                    ).then(function(){\n                            \nvar gd = document.getElementById('2ed68b81-3a76-4c3c-95c8-c50e2a234f44');\nvar x = new MutationObserver(function (mutations, observer) {{\n        var display = window.getComputedStyle(gd).display;\n        if (!display || display === 'none') {{\n            console.log([gd, 'removed!']);\n            Plotly.purge(gd);\n            observer.disconnect();\n        }}\n}});\n\n// Listen for the removal of the full notebook cells\nvar notebookContainer = gd.closest('#notebook-container');\nif (notebookContainer) {{\n    x.observe(notebookContainer, {childList: true});\n}}\n\n// Listen for the clearing of the current output cell\nvar outputEl = gd.closest('.output');\nif (outputEl) {{\n    x.observe(outputEl, {childList: true});\n}}\n\n                        })                };                            </script>        </div>\n</body>\n</html>"
                },
                "metadata": {}
              }
            ]
          }
        },
        "9269dd37c4f24ae1baf56e1205a7f0e4": {
          "model_module": "@jupyter-widgets/base",
          "model_name": "LayoutModel",
          "model_module_version": "1.2.0",
          "state": {
            "_model_module": "@jupyter-widgets/base",
            "_model_module_version": "1.2.0",
            "_model_name": "LayoutModel",
            "_view_count": null,
            "_view_module": "@jupyter-widgets/base",
            "_view_module_version": "1.2.0",
            "_view_name": "LayoutView",
            "align_content": null,
            "align_items": null,
            "align_self": null,
            "border": null,
            "bottom": null,
            "display": null,
            "flex": null,
            "flex_flow": null,
            "grid_area": null,
            "grid_auto_columns": null,
            "grid_auto_flow": null,
            "grid_auto_rows": null,
            "grid_column": null,
            "grid_gap": null,
            "grid_row": null,
            "grid_template_areas": null,
            "grid_template_columns": null,
            "grid_template_rows": null,
            "height": null,
            "justify_content": null,
            "justify_items": null,
            "left": null,
            "margin": null,
            "max_height": null,
            "max_width": null,
            "min_height": null,
            "min_width": null,
            "object_fit": null,
            "object_position": null,
            "order": null,
            "overflow": null,
            "overflow_x": null,
            "overflow_y": null,
            "padding": null,
            "right": null,
            "top": null,
            "visibility": null,
            "width": null
          }
        },
        "e771edda337b49b6be3c36e912c025d6": {
          "model_module": "@jupyter-widgets/base",
          "model_name": "LayoutModel",
          "model_module_version": "1.2.0",
          "state": {
            "_model_module": "@jupyter-widgets/base",
            "_model_module_version": "1.2.0",
            "_model_name": "LayoutModel",
            "_view_count": null,
            "_view_module": "@jupyter-widgets/base",
            "_view_module_version": "1.2.0",
            "_view_name": "LayoutView",
            "align_content": null,
            "align_items": null,
            "align_self": null,
            "border": null,
            "bottom": null,
            "display": null,
            "flex": null,
            "flex_flow": null,
            "grid_area": null,
            "grid_auto_columns": null,
            "grid_auto_flow": null,
            "grid_auto_rows": null,
            "grid_column": null,
            "grid_gap": null,
            "grid_row": null,
            "grid_template_areas": null,
            "grid_template_columns": null,
            "grid_template_rows": null,
            "height": null,
            "justify_content": null,
            "justify_items": null,
            "left": null,
            "margin": null,
            "max_height": null,
            "max_width": null,
            "min_height": null,
            "min_width": null,
            "object_fit": null,
            "object_position": null,
            "order": null,
            "overflow": null,
            "overflow_x": null,
            "overflow_y": null,
            "padding": null,
            "right": null,
            "top": null,
            "visibility": null,
            "width": null
          }
        },
        "0b2088f815a7483bb0e2b9dbee154615": {
          "model_module": "@jupyter-widgets/controls",
          "model_name": "SliderStyleModel",
          "model_module_version": "1.5.0",
          "state": {
            "_model_module": "@jupyter-widgets/controls",
            "_model_module_version": "1.5.0",
            "_model_name": "SliderStyleModel",
            "_view_count": null,
            "_view_module": "@jupyter-widgets/base",
            "_view_module_version": "1.2.0",
            "_view_name": "StyleView",
            "description_width": "",
            "handle_color": null
          }
        },
        "10db1cbf04aa4f58bba5ec89c92598e1": {
          "model_module": "@jupyter-widgets/base",
          "model_name": "LayoutModel",
          "model_module_version": "1.2.0",
          "state": {
            "_model_module": "@jupyter-widgets/base",
            "_model_module_version": "1.2.0",
            "_model_name": "LayoutModel",
            "_view_count": null,
            "_view_module": "@jupyter-widgets/base",
            "_view_module_version": "1.2.0",
            "_view_name": "LayoutView",
            "align_content": null,
            "align_items": null,
            "align_self": null,
            "border": null,
            "bottom": null,
            "display": null,
            "flex": null,
            "flex_flow": null,
            "grid_area": null,
            "grid_auto_columns": null,
            "grid_auto_flow": null,
            "grid_auto_rows": null,
            "grid_column": null,
            "grid_gap": null,
            "grid_row": null,
            "grid_template_areas": null,
            "grid_template_columns": null,
            "grid_template_rows": null,
            "height": null,
            "justify_content": null,
            "justify_items": null,
            "left": null,
            "margin": null,
            "max_height": null,
            "max_width": null,
            "min_height": null,
            "min_width": null,
            "object_fit": null,
            "object_position": null,
            "order": null,
            "overflow": null,
            "overflow_x": null,
            "overflow_y": null,
            "padding": null,
            "right": null,
            "top": null,
            "visibility": null,
            "width": null
          }
        }
      }
    }
  },
  "cells": [
    {
      "cell_type": "markdown",
      "metadata": {
        "id": "view-in-github",
        "colab_type": "text"
      },
      "source": [
        "<a href=\"https://colab.research.google.com/github/josorio398/CALCULO-INTEGRAL-CON-PYTHON/blob/main/Sumas_de_Riemann_con_Python.ipynb\" target=\"_parent\"><img src=\"https://colab.research.google.com/assets/colab-badge.svg\" alt=\"Open In Colab\"/></a>"
      ]
    },
    {
      "cell_type": "markdown",
      "metadata": {
        "id": "RVxHpsbcExUD"
      },
      "source": [
        "<p><img alt=\"logo.fua\" height=\"100px\" src=\"https://github.com/josorio398/ALGEBRA-LINEAL-CON-PYTHON/blob/master/im%C3%A1genes%20repositorio/Logo%20UAm%C3%A9rica%20nuevo%202021.ai_page-0005.jpg?raw=true\" align=\"left\" hspace=\"0px\" vspace=\"0px\"></p>\n",
        "\n",
        "<p><img alt=\"logo.fua\" height=\"26px\" src=\"https://mirrors.creativecommons.org/presskit/buttons/88x31/svg/by-nd.svg\" align=\"right\" hspace=\"0px\" vspace=\"11px\"></p>\n",
        "\n",
        "\n",
        "<center> <font size=\"6\"><b>CALCULO INTEGRAL CON PYTHON &nbsp; &nbsp; &nbsp;&nbsp;</b><center><I>Jhonny Osorio Gallego</I> &nbsp; &nbsp;&nbsp; &nbsp;&nbsp;&nbsp;&nbsp; &nbsp; &nbsp;&nbsp; &nbsp;<p></font></center> \n",
        " "
      ]
    },
    {
      "cell_type": "markdown",
      "metadata": {
        "id": "pELON3yz_46g"
      },
      "source": [
        "# **SUMAS DE RIEMANN CON PYTHON**\n",
        "\n",
        "---\n",
        "\n"
      ]
    },
    {
      "cell_type": "markdown",
      "metadata": {
        "id": "U515Q-sM2m9k"
      },
      "source": [
        "## **Instalamos librería CalculusPy**\n",
        "-  **CalculusPy** es una biblioteca escrita en python que brinda herramientas para la enseñanza del cálculo en una variable. [CalculusPy 1.0.2](https://pypi.org/project/CalculusPy/)"
      ]
    },
    {
      "cell_type": "code",
      "source": [
        "%%capture\n",
        "pip install CalculusPy"
      ],
      "metadata": {
        "id": "zqGBRL0sD6Vt"
      },
      "execution_count": 2,
      "outputs": []
    },
    {
      "cell_type": "markdown",
      "source": [
        "## **Importamos librería SymPy y CalculusPy**"
      ],
      "metadata": {
        "id": "5u5aNmpwcGJr"
      }
    },
    {
      "cell_type": "code",
      "metadata": {
        "id": "4wHJ9dZ3405h"
      },
      "source": [
        "from CalculusPy.RiemannSums import plot_riemann_sum\n",
        "from sympy import *\n",
        "\n",
        "init_printing() \n",
        "\n",
        "x,n,i = symbols(\"x n i\", real = True)"
      ],
      "execution_count": 13,
      "outputs": []
    },
    {
      "cell_type": "markdown",
      "source": [
        "# **Sumas de Riemman**\n",
        "\n",
        "\n",
        "Una **Suma de Riemann**  es un método utilizado en cálculo integral para aproximar el valor de una integral definida la cual corresponde al área bajo la curva de una función si $f(x)>0$, al dividirla en varias formas simples (tales como rectángulos o trapecios). La idea es dividir el intervalo de integración en subintervalos más pequeños y luego sumar las áreas de todos los rectángulos o trapecios para obtener una aproximación del área total bajo la curva.\n",
        "\n",
        "Sea $f:[a, b] \\rightarrow \\mathbb{R}$ una función definida en un intervalo cerrado $[a, b]$ de los números reales, $\\mathbb{R}$, y $P=\\left(x_0, x_1, \\ldots, x_n\\right)$ una partición de  $[a, b]$, tal que:\n",
        "\n",
        "$$a=x_0<x_1<x_2<\\cdots<x_n=b$$\n",
        "\n",
        "Una Suma de Riemann $S$ de $f$ en el intervalo $[a, b]$ con una partición $P$ está definida como:\n",
        "\n",
        "$$S=\\sum_{i=1}^n f\\left(x_i^*\\right) \\Delta x_i$$\n",
        "\n",
        "Donde $\\Delta x_i=x_i-x_{i-1}$ y $x_i^* \\in\\left[x_{i-1}, x_i\\right]$, se pueden obtener diferentes Sumas de Riemann dependiendo de la ubicación de $x_i^*$ en el intervalo:\n",
        "\n",
        "-  Si $x_i^*= x_{i-1}$ es una suma por izquierda. (**left**)\n",
        "-  Si $x_i^*= x_{i}$ es una suma por derecha. (**right**)\n",
        "-  Si $x_i^*= \\frac{x_i+x_{i-1}}{2}$ es una suma con punto medio.   (**middle**)\n",
        "\n",
        "Las ecuaciones para realizar el cálculo del **area aproximada con rectángulos por derecha** son:\n",
        "\n",
        "$$\\Delta x=\\frac{b-a}{n},\\quad x_i= a+i\\Delta x, \\quad S = \\sum_{i=1}^n f\\left(x_i\\right) \\Delta x_i $$\n",
        "\n",
        "donde el area exacta la podemos encontar:\n",
        "\n",
        "$$\\int_a^b f(x) d x=\\lim _{i \\rightarrow ∞} \\sum_{i=1}^n f\\left(x_i\\right) \\Delta x_i$$\n"
      ],
      "metadata": {
        "id": "EWbuZDP8Ex1S"
      }
    },
    {
      "cell_type": "markdown",
      "source": [
        "## **Ejemplo:**\n",
        "\n",
        "Usa las ecuaciones anteriores para calcular las **sumas de Riemann por derecha** de la siguiente función en el intervalo indicado:\n",
        "\n",
        "$$f(x)=x^2, \\quad \\left[ 1,3\\right]$$\n",
        "\n",
        "###  **Procedimiento**\n",
        "\n",
        "Aplicamos la ecuaciones de la suma por derecha para la función en el intervalo:\n",
        "\n",
        "$$\\Delta x=\\frac{b-a}{n}= \\frac{3-1}{n}=\\frac{2}{n}$$\\\n",
        "$$x_i= a+i\\Delta x = 1+i \\ \\frac{2}{n} = 1+ \\frac{2i}{n} $$\n",
        "\n",
        "donde el area aproximada de los rectangulos para $n$ rectangulos es:\n",
        "\n",
        "\n",
        "\\begin{align}\n",
        "    S = \\sum_{i=1}^n f\\left(x_i\\right) \\Delta x_i &= \\sum_{i=1}^n f\\left(1+ \\frac{2i}{n}\\right) \\frac{2}{n} \\\\\n",
        "     &= \\sum_{i=1}^n \\left(1+ \\frac{2i}{n}\\right)^2 \\frac{2}{n}\\\\\n",
        "     &= \\sum_{i=1}^n \\left(1+ \\frac{2i}{n}\\right)^2 \\frac{2}{n}\\\\\n",
        "     &= \\sum_{i=1}^n \\left(1+\\frac{4 i}{n}+\\frac{4 i^2}{n^2}\\right) \\cdot \\frac{2}{n}\\\\\n",
        "     &= \\sum_{i=1}^n \\left(\\frac{2}{n}+\\frac{8 i}{n^2}+\\frac{8 i^2}{n^3}\\right)\\\\\n",
        "      &= \\sum_{i=1}^n \\frac{2}{n}+\\sum_{i=1}^n \\frac{8 i}{n^2}+\\sum_{i=1}^n \\frac{8 i^2}{n^3}\\\\\n",
        "      &= \\frac{2}{n} \\cdot n+\\frac{8}{n^2} \\sum_{i=1}^n i+\\frac{8}{n^3} \\sum_{i=1}^n i^2\\\\\n",
        "      &= 2+\\frac{8}{n^2} \\cdot \\frac{n(n+1)}{2}+\\frac{8}{n^3} \\cdot \\frac{n(n+1)(2 n+1)}{6}\\\\\n",
        "      &= 2+\\frac{4(n+1)}{n}+\\frac{4(n+1)(2 n+1)}{3 n^2}\\\\\n",
        "      &= 2+\\frac{4 n+4}{n}+\\frac{8 n^2+12 n+4}{3 n^2}\n",
        "\\end{align}\n",
        "\n",
        "###  **Verificación de la suma**\n"
      ],
      "metadata": {
        "id": "QTw6jpLXcmM4"
      }
    },
    {
      "cell_type": "code",
      "source": [
        "a,b = 1,3\n",
        "dx = (b-a)/n\n",
        "xi = a+i*dx\n",
        "f = x**2\n",
        "\n",
        "S = Sum(f.subs(x,xi)*dx,(i,1,n))\n",
        "S"
      ],
      "metadata": {
        "colab": {
          "base_uri": "https://localhost:8080/",
          "height": 69
        },
        "id": "PO4VgpKElFmj",
        "outputId": "72c29022-e62b-4f2e-e577-63b831f902ca"
      },
      "execution_count": 47,
      "outputs": [
        {
          "output_type": "execute_result",
          "data": {
            "text/plain": [
              "  n               \n",
              "_____             \n",
              "╲                 \n",
              " ╲               2\n",
              "  ╲     ⎛2⋅i    ⎞ \n",
              "   ╲  2⋅⎜─── + 1⎟ \n",
              "   ╱    ⎝ n     ⎠ \n",
              "  ╱   ────────────\n",
              " ╱         n      \n",
              "╱                 \n",
              "‾‾‾‾‾             \n",
              "i = 1             "
            ],
            "text/latex": "$\\displaystyle \\sum_{i=1}^{n} \\frac{2 \\left(\\frac{2 i}{n} + 1\\right)^{2}}{n}$"
          },
          "metadata": {},
          "execution_count": 47
        }
      ]
    },
    {
      "cell_type": "code",
      "source": [
        "S = S.doit()\n",
        "S"
      ],
      "metadata": {
        "colab": {
          "base_uri": "https://localhost:8080/",
          "height": 66
        },
        "id": "w3KzOpxMmt4C",
        "outputId": "ba149f55-ef7c-42d3-bb35-d4a082dbddd2"
      },
      "execution_count": 48,
      "outputs": [
        {
          "output_type": "execute_result",
          "data": {
            "text/plain": [
              "      ⎛ 2    ⎞     ⎛ 3    2    ⎞\n",
              "      ⎜n    n⎟     ⎜n    n    n⎟\n",
              "    8⋅⎜── + ─⎟   8⋅⎜── + ── + ─⎟\n",
              "      ⎝2    2⎠     ⎝3    2    6⎠\n",
              "2 + ────────── + ───────────────\n",
              "         2               3      \n",
              "        n               n       "
            ],
            "text/latex": "$\\displaystyle 2 + \\frac{8 \\left(\\frac{n^{2}}{2} + \\frac{n}{2}\\right)}{n^{2}} + \\frac{8 \\left(\\frac{n^{3}}{3} + \\frac{n^{2}}{2} + \\frac{n}{6}\\right)}{n^{3}}$"
          },
          "metadata": {},
          "execution_count": 48
        }
      ]
    },
    {
      "cell_type": "markdown",
      "source": [
        "Para encontar el **area exacta** bajo la curva, calculamos el límite cuando el número de rectangulos tiende a infinito:\n",
        "\n",
        "\\begin{align}\n",
        "A &=\\lim _{i \\rightarrow ∞} \\sum_{i=1}^n f\\left(x_i\\right) \\Delta x_i\\\\\n",
        "  &= \\lim _{i \\rightarrow ∞} \\left(2+\\frac{4 n+4}{n}+\\frac{8 n^2+12 n+4}{3 n^2}\\right)\\\\\n",
        "  &= 2 + 4+ \\frac{8}{3}\\\\\n",
        "  &= \\frac{26}{3}\\\\\n",
        "\\end{align}\n",
        "\n",
        "###  **Verificación del límite**"
      ],
      "metadata": {
        "id": "ZUwx-Qbhno5n"
      }
    },
    {
      "cell_type": "code",
      "source": [
        "Limit(S,n,oo).doit()"
      ],
      "metadata": {
        "colab": {
          "base_uri": "https://localhost:8080/",
          "height": 51
        },
        "id": "Wfh2VwWlo4vQ",
        "outputId": "3e963209-86ad-48bb-c7bd-9eb2570d5302"
      },
      "execution_count": 49,
      "outputs": [
        {
          "output_type": "execute_result",
          "data": {
            "text/plain": [
              "26/3"
            ],
            "text/latex": "$\\displaystyle \\frac{26}{3}$"
          },
          "metadata": {},
          "execution_count": 49
        }
      ]
    },
    {
      "cell_type": "markdown",
      "source": [
        "El resultado anterior es igual si calculamos la integral de la función $f(x)=x^2$ en el intervalo $\\left[ 1,3\\right]$:\n",
        "\n",
        "\\begin{align}\n",
        "A &= \\int^{1}_{3} x^2 \\ dx\\\\\n",
        "  &= \\left.\\frac{x^3}{3}\\right|_1 ^3 \\\\\n",
        "  &= \\frac{3^3}{3}-\\frac{1}{3} \\\\\n",
        "  &= \\frac{27-1}{3}\\\\\n",
        "  &= \\frac{26}{3}\n",
        "\\end{align}\n",
        "\n",
        "###  **Verificación de la integral definida**"
      ],
      "metadata": {
        "id": "NL2jN6GZp660"
      }
    },
    {
      "cell_type": "code",
      "source": [
        "I = integrate(f,(x,1,3))\n",
        "I"
      ],
      "metadata": {
        "colab": {
          "base_uri": "https://localhost:8080/",
          "height": 51
        },
        "id": "7eKA9NvDdDv7",
        "outputId": "d175c053-0a4d-4224-a014-6a839df30af6"
      },
      "execution_count": 56,
      "outputs": [
        {
          "output_type": "execute_result",
          "data": {
            "text/plain": [
              "26/3"
            ],
            "text/latex": "$\\displaystyle \\frac{26}{3}$"
          },
          "metadata": {},
          "execution_count": 56
        }
      ]
    },
    {
      "cell_type": "code",
      "source": [
        "I.evalf()"
      ],
      "metadata": {
        "colab": {
          "base_uri": "https://localhost:8080/",
          "height": 37
        },
        "id": "xmbv5GoBr7cy",
        "outputId": "dd79ad8c-b907-4c44-9d75-8f337237b0c5"
      },
      "execution_count": 57,
      "outputs": [
        {
          "output_type": "execute_result",
          "data": {
            "text/plain": [
              "8.66666666666667"
            ],
            "text/latex": "$\\displaystyle 8.66666666666667$"
          },
          "metadata": {},
          "execution_count": 57
        }
      ]
    },
    {
      "cell_type": "markdown",
      "source": [
        "## **Animación de las Sumas de Riemann por derecha**"
      ],
      "metadata": {
        "id": "6E-btrF-riaF"
      }
    },
    {
      "cell_type": "code",
      "source": [
        "plot_riemann_sum(f,1,3,1000)"
      ],
      "metadata": {
        "colab": {
          "base_uri": "https://localhost:8080/",
          "height": 649,
          "referenced_widgets": [
            "1446410170174800be4163cff2e97859",
            "2fbcfe464c28478daa7242bc81c5a536",
            "7e5be703f66440ee8924020bbe397586",
            "9269dd37c4f24ae1baf56e1205a7f0e4",
            "e771edda337b49b6be3c36e912c025d6",
            "0b2088f815a7483bb0e2b9dbee154615",
            "10db1cbf04aa4f58bba5ec89c92598e1"
          ]
        },
        "id": "PxVFvVjHYYYt",
        "outputId": "7ff3a28a-1489-4cb2-a39e-7683e89cc7de"
      },
      "execution_count": 11,
      "outputs": [
        {
          "output_type": "display_data",
          "data": {
            "text/plain": [
              "interactive(children=(IntSlider(value=500, description='n', max=1000, min=1), Output()), _dom_classes=('widget…"
            ],
            "application/vnd.jupyter.widget-view+json": {
              "version_major": 2,
              "version_minor": 0,
              "model_id": "1446410170174800be4163cff2e97859"
            }
          },
          "metadata": {}
        }
      ]
    },
    {
      "cell_type": "markdown",
      "source": [
        "##  **Conclusión:**\n",
        "\n",
        "Podemos apreciar que cuando el número de rectangulos tiende a infinito al area aproximada converge al valor de la integral definida de la función en el intervalo indicado."
      ],
      "metadata": {
        "id": "vOSvKUdIsTjv"
      }
    },
    {
      "cell_type": "markdown",
      "source": [
        "## **Referencias**"
      ],
      "metadata": {
        "id": "rj0GRNwmExy1"
      }
    },
    {
      "cell_type": "markdown",
      "source": [
        "- [1] Wikipedia contributors. (2023, March 20). Suma de Riemann. En Wikipedia, La enciclopedia libre. Recuperado a las 17:41, March 20, 2023, de https://en.wikipedia.org/wiki/Riemann_sum.\n",
        "\n",
        "- [2] Stewart, J. (2008). Cálculo de Una Variable: Trascendentes Tempranas. México D.F.: Cengage Learning."
      ],
      "metadata": {
        "id": "4J4XzRLBExvc"
      }
    },
    {
      "cell_type": "code",
      "source": [],
      "metadata": {
        "id": "pgowlrJfvJMP"
      },
      "execution_count": null,
      "outputs": []
    }
  ]
}